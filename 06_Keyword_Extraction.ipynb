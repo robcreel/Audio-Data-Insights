{
 "cells": [
  {
   "cell_type": "markdown",
   "metadata": {},
   "source": [
    "# Keyword Extraction"
   ]
  },
  {
   "cell_type": "markdown",
   "metadata": {},
   "source": [
    "#### Ryan Bales (@ryanbales)<br>ryan@balesofdata.com"
   ]
  },
  {
   "cell_type": "markdown",
   "metadata": {},
   "source": [
    "***"
   ]
  },
  {
   "cell_type": "markdown",
   "metadata": {},
   "source": [
    "### Import Packages"
   ]
  },
  {
   "cell_type": "code",
   "execution_count": 1,
   "metadata": {},
   "outputs": [],
   "source": [
    "import gensim\n",
    "import json"
   ]
  },
  {
   "cell_type": "markdown",
   "metadata": {},
   "source": [
    "## Presidential Debate #1 - 9/26/2016"
   ]
  },
  {
   "cell_type": "markdown",
   "metadata": {},
   "source": [
    "### Let's Try Keyword Extraction"
   ]
  },
  {
   "cell_type": "code",
   "execution_count": 2,
   "metadata": {},
   "outputs": [],
   "source": [
    "trancription = None\n",
    "\n",
    "with open(\"data/2016_debates/transcripts/debate_1.mp3.json\", 'r') as transcript_file:  \n",
    "    transcription = json.load(transcript_file)"
   ]
  },
  {
   "cell_type": "code",
   "execution_count": 3,
   "metadata": {},
   "outputs": [],
   "source": [
    "text = transcription[\"results\"][\"transcripts\"][0][\"transcript\"]"
   ]
  },
  {
   "cell_type": "code",
   "execution_count": 4,
   "metadata": {},
   "outputs": [],
   "source": [
    "keywords = gensim.summarization.keywords(text, scores=True, lemmatize=True)"
   ]
  },
  {
   "cell_type": "markdown",
   "metadata": {},
   "source": [
    "### Display 20 Most used Keywords"
   ]
  },
  {
   "cell_type": "code",
   "execution_count": 5,
   "metadata": {},
   "outputs": [
    {
     "data": {
      "text/plain": [
       "[('people', 0.21668264948794191),\n",
       " ('new', 0.16058265076111394),\n",
       " ('job', 0.14568134716888664),\n",
       " ('americans', 0.14350568517871395),\n",
       " ('thing', 0.136508530280814),\n",
       " ('tax', 0.1322990859148715),\n",
       " ('great', 0.12847715537455312),\n",
       " ('secretary', 0.12523216849221896),\n",
       " ('air', 0.12137397763483734),\n",
       " ('goods', 0.12136990179735202),\n",
       " ('rights', 0.11954466157703911),\n",
       " ('said', 0.11262064256719072),\n",
       " ('donald', 0.1122996721523265),\n",
       " ('thinks', 0.10960522740444732),\n",
       " ('community', 0.10655841756411955),\n",
       " ('tremendous', 0.10414849947603623),\n",
       " ('year', 0.09896310471791729),\n",
       " ('state', 0.09822880632663376),\n",
       " ('knows', 0.09496080886025582),\n",
       " ('nations', 0.0946400062895703)]"
      ]
     },
     "execution_count": 5,
     "metadata": {},
     "output_type": "execute_result"
    }
   ],
   "source": [
    "keywords[:20]"
   ]
  },
  {
   "cell_type": "markdown",
   "metadata": {},
   "source": [
    "### 20 Least Common Words"
   ]
  },
  {
   "cell_type": "code",
   "execution_count": 6,
   "metadata": {},
   "outputs": [
    {
     "data": {
      "text/plain": [
       "[('negotiates', 0.031311033875156075),\n",
       " ('airports', 0.03126899910464706),\n",
       " ('law', 0.03118608358013429),\n",
       " ('hillaryclinton dot', 0.0311772971564484),\n",
       " ('defense', 0.031177297156448187),\n",
       " ('mutual', 0.031177297156448115),\n",
       " ('fatal', 0.03117729715644785),\n",
       " ('consequences', 0.031177297156447823),\n",
       " ('charged', 0.03058321868200926),\n",
       " ('certainly', 0.030522036607703033),\n",
       " ('clean', 0.030435891062086707),\n",
       " ('child', 0.030098179699358393),\n",
       " ('banks', 0.03008208584183367),\n",
       " ('government', 0.030064720482252793),\n",
       " ('russia', 0.030017543908063785),\n",
       " ('somebody', 0.02990550872040327),\n",
       " ('europe', 0.029704115128615937),\n",
       " ('eighth', 0.029531483037502734),\n",
       " ('lost', 0.02949029151284938),\n",
       " ('pictures', 0.029475812378314557)]"
      ]
     },
     "execution_count": 6,
     "metadata": {},
     "output_type": "execute_result"
    }
   ],
   "source": [
    "keywords[-20:]"
   ]
  },
  {
   "cell_type": "markdown",
   "metadata": {},
   "source": [
    "***"
   ]
  },
  {
   "cell_type": "markdown",
   "metadata": {},
   "source": [
    "## Vice-Presidential Debate - 10/04/2016"
   ]
  },
  {
   "cell_type": "markdown",
   "metadata": {},
   "source": [
    "### Let's Try Keyword Extraction"
   ]
  },
  {
   "cell_type": "code",
   "execution_count": 7,
   "metadata": {},
   "outputs": [],
   "source": [
    "trancription = None\n",
    "\n",
    "with open(\"data/2016_debates/transcripts/vp_debate.mp3.json\", 'r') as transcript_file:  \n",
    "    transcription = json.load(transcript_file)"
   ]
  },
  {
   "cell_type": "code",
   "execution_count": 8,
   "metadata": {},
   "outputs": [],
   "source": [
    "text = transcription[\"results\"][\"transcripts\"][0][\"transcript\"]"
   ]
  },
  {
   "cell_type": "code",
   "execution_count": 9,
   "metadata": {},
   "outputs": [],
   "source": [
    "keywords = gensim.summarization.keywords(text, scores=True, lemmatize=True)"
   ]
  },
  {
   "cell_type": "markdown",
   "metadata": {},
   "source": [
    "### Display 20 Most used Keywords"
   ]
  },
  {
   "cell_type": "code",
   "execution_count": 10,
   "metadata": {},
   "outputs": [
    {
     "data": {
      "text/plain": [
       "[('senators', 0.2284214997264026),\n",
       " ('americans', 0.21815004476509892),\n",
       " ('governors', 0.17958118913322532),\n",
       " ('donald', 0.16797455691729585),\n",
       " ('hillary', 0.15996152937145727),\n",
       " ('likes', 0.15258604002449),\n",
       " ('trump', 0.14631596257607027),\n",
       " ('tax', 0.14474343011492383),\n",
       " ('people', 0.1404228492337728),\n",
       " ('said', 0.13411415349970285),\n",
       " ('stating', 0.12364109204990774),\n",
       " ('rights', 0.11766884355265152),\n",
       " ('clintons', 0.11339175042399101),\n",
       " ('great', 0.10944636342806133),\n",
       " ('life', 0.10517659969646483),\n",
       " ('work', 0.09499523630890055),\n",
       " ('secured', 0.08610846413752678),\n",
       " ('things', 0.08561418393964522),\n",
       " ('let', 0.0847507496806532),\n",
       " ('nationally', 0.08446886209888041)]"
      ]
     },
     "execution_count": 10,
     "metadata": {},
     "output_type": "execute_result"
    }
   ],
   "source": [
    "keywords[:20]"
   ]
  },
  {
   "cell_type": "markdown",
   "metadata": {},
   "source": [
    "### 20 Least Common Words"
   ]
  },
  {
   "cell_type": "code",
   "execution_count": 11,
   "metadata": {},
   "outputs": [
    {
     "data": {
      "text/plain": [
       "[('debates', 0.024860452358336924),\n",
       " ('best', 0.024842530344558317),\n",
       " ('standing', 0.024762666784740015),\n",
       " ('responsible', 0.024732747124452434),\n",
       " ('budgets', 0.02472026294597634),\n",
       " ('principle', 0.024695857171797564),\n",
       " ('fighting', 0.024515867956364235),\n",
       " ('prevented', 0.02447411391311077),\n",
       " ('actions', 0.024392547708864815),\n",
       " ('focusing', 0.024262086498204414),\n",
       " ('financing', 0.024215370122232144),\n",
       " ('investigating', 0.02401677165722031),\n",
       " ('catholic', 0.02373513025498048),\n",
       " ('human', 0.02348899687622562),\n",
       " ('east', 0.023452008665100894),\n",
       " ('amendment', 0.023387526150230393),\n",
       " ('strike', 0.023353380782306594),\n",
       " ('bin', 0.02327338622926575),\n",
       " ('going', 0.023268651124297497),\n",
       " ('makes', 0.023266291365625677)]"
      ]
     },
     "execution_count": 11,
     "metadata": {},
     "output_type": "execute_result"
    }
   ],
   "source": [
    "keywords[-20:]"
   ]
  },
  {
   "cell_type": "markdown",
   "metadata": {},
   "source": [
    "## Presidential Debate #2 - 10/09/2016"
   ]
  },
  {
   "cell_type": "markdown",
   "metadata": {},
   "source": [
    "### Let's Try Keyword Extraction"
   ]
  },
  {
   "cell_type": "code",
   "execution_count": 12,
   "metadata": {},
   "outputs": [],
   "source": [
    "trancription = None\n",
    "\n",
    "with open(\"data/2016_debates/transcripts/debate_2.mp3.json\", 'r') as transcript_file:  \n",
    "    transcription = json.load(transcript_file)"
   ]
  },
  {
   "cell_type": "code",
   "execution_count": 13,
   "metadata": {},
   "outputs": [],
   "source": [
    "text = transcription[\"results\"][\"transcripts\"][0][\"transcript\"]"
   ]
  },
  {
   "cell_type": "code",
   "execution_count": 14,
   "metadata": {},
   "outputs": [],
   "source": [
    "keywords = gensim.summarization.keywords(text, scores=True, lemmatize=True)"
   ]
  },
  {
   "cell_type": "markdown",
   "metadata": {},
   "source": [
    "### Display 20 Most used Keywords"
   ]
  },
  {
   "cell_type": "code",
   "execution_count": 15,
   "metadata": {},
   "outputs": [
    {
     "data": {
      "text/plain": [
       "[('people', 0.2650130783349797),\n",
       " ('taxes', 0.16674657062074694),\n",
       " ('like', 0.15757211767987067),\n",
       " ('american', 0.15701548653248554),\n",
       " ('great', 0.15520526780910804),\n",
       " ('thing', 0.14382901968172176),\n",
       " ('questioning', 0.13600794971630928),\n",
       " ('hillary', 0.1145479321607394),\n",
       " ('said', 0.11330878320497302),\n",
       " ('clinton', 0.11257353924305541),\n",
       " ('good', 0.11197053289393655),\n",
       " ('million', 0.10615239610864241),\n",
       " ('trumps', 0.10513236140929924),\n",
       " ('secretary', 0.1039241747433446),\n",
       " ('wanted', 0.10046419841888668),\n",
       " ('donald', 0.09950042423427746),\n",
       " ('presidents', 0.09861922526383352),\n",
       " ('actually', 0.09794519983060149),\n",
       " ('obama care', 0.09674161356304428),\n",
       " ('national', 0.09310171511359619)]"
      ]
     },
     "execution_count": 15,
     "metadata": {},
     "output_type": "execute_result"
    }
   ],
   "source": [
    "keywords[:20]"
   ]
  },
  {
   "cell_type": "markdown",
   "metadata": {},
   "source": [
    "### 20 Least Common Words"
   ]
  },
  {
   "cell_type": "code",
   "execution_count": 16,
   "metadata": {},
   "outputs": [
    {
     "data": {
      "text/plain": [
       "[('sanders', 0.029021674481605062),\n",
       " ('regret', 0.029016376171538738),\n",
       " ('politically', 0.029014528017625198),\n",
       " ('believed', 0.028961348731287417),\n",
       " ('seconds', 0.028892168142384718),\n",
       " ('james', 0.028839120644025173),\n",
       " ('conditions', 0.02875689556577575),\n",
       " ('advocate', 0.028713681711721763),\n",
       " ('peshmerga', 0.02854019841985841),\n",
       " ('helped', 0.028474963855194924),\n",
       " ('judges', 0.02840177972802326),\n",
       " ('possibly', 0.028389908032242665),\n",
       " ('use', 0.028337751384063338),\n",
       " ('supporting', 0.028335233506124345),\n",
       " ('khan', 0.02828372686206083),\n",
       " ('incomes', 0.02825026300719885),\n",
       " ('young', 0.02805508568149682),\n",
       " ('sixteen', 0.02801131403427484),\n",
       " ('afford', 0.027834043419781476),\n",
       " ('hand', 0.027815440538550708)]"
      ]
     },
     "execution_count": 16,
     "metadata": {},
     "output_type": "execute_result"
    }
   ],
   "source": [
    "keywords[-20:]"
   ]
  },
  {
   "cell_type": "markdown",
   "metadata": {},
   "source": [
    "## Presidential Debate #3 - 10/19/2016"
   ]
  },
  {
   "cell_type": "markdown",
   "metadata": {},
   "source": [
    "### Let's Try Keyword Extraction"
   ]
  },
  {
   "cell_type": "code",
   "execution_count": 17,
   "metadata": {},
   "outputs": [],
   "source": [
    "trancription = None\n",
    "\n",
    "with open(\"data/2016_debates/transcripts/debate_3.mp3.json\", 'r') as transcript_file:  \n",
    "    transcription = json.load(transcript_file)"
   ]
  },
  {
   "cell_type": "code",
   "execution_count": 18,
   "metadata": {},
   "outputs": [],
   "source": [
    "text = transcription[\"results\"][\"transcripts\"][0][\"transcript\"]"
   ]
  },
  {
   "cell_type": "code",
   "execution_count": 19,
   "metadata": {},
   "outputs": [],
   "source": [
    "keywords = gensim.summarization.keywords(text, scores=True, lemmatize=True)"
   ]
  },
  {
   "cell_type": "markdown",
   "metadata": {},
   "source": [
    "### Display 20 Most used Keywords"
   ]
  },
  {
   "cell_type": "code",
   "execution_count": 20,
   "metadata": {},
   "outputs": [
    {
     "data": {
      "text/plain": [
       "[('people', 0.21472115021431462),\n",
       " ('secretary', 0.17522525477383977),\n",
       " ('american', 0.16954538686795392),\n",
       " ('great', 0.14137732602812084),\n",
       " ('said', 0.13678561134560807),\n",
       " ('jobs', 0.13526243463561047),\n",
       " ('ways', 0.13327769617206753),\n",
       " ('donald', 0.12187716872905816),\n",
       " ('taxes', 0.1098261384995036),\n",
       " ('presidency', 0.10392198150680032),\n",
       " ('governments', 0.09955123142446728),\n",
       " ('planning', 0.09748928046846247),\n",
       " ('countries', 0.09669246654026531),\n",
       " ('guns', 0.09400440820116654),\n",
       " ('big', 0.09342698646673728),\n",
       " ('wants', 0.09313690859341921),\n",
       " ('likes', 0.0927330506070934),\n",
       " ('years', 0.08805808560928013),\n",
       " ('news', 0.08749441409449003),\n",
       " ('trump', 0.08671343694184572)]"
      ]
     },
     "execution_count": 20,
     "metadata": {},
     "output_type": "execute_result"
    }
   ],
   "source": [
    "keywords[:20]"
   ]
  },
  {
   "cell_type": "markdown",
   "metadata": {},
   "source": [
    "### 20 Least Common Words"
   ]
  },
  {
   "cell_type": "code",
   "execution_count": 21,
   "metadata": {},
   "outputs": [
    {
     "data": {
      "text/plain": [
       "[('seventeen', 0.03247648994503104),\n",
       " ('debt', 0.03238045299511219),\n",
       " ('tonight', 0.032340258748554424),\n",
       " ('health', 0.03220427065594527),\n",
       " ('mischaracterizations rhetorically', 0.031926885339691125),\n",
       " ('wait', 0.03192688533969103),\n",
       " ('islamic', 0.03192688533969103),\n",
       " ('hold', 0.03192688533969102),\n",
       " ('radicalization', 0.031926885339691),\n",
       " ('negotiators', 0.031765832825339076),\n",
       " ('played', 0.03163674356192358),\n",
       " ('better', 0.03160598017322696),\n",
       " ('nafta', 0.031552563176325904),\n",
       " ('enforce', 0.03137712533993622),\n",
       " ('probably', 0.031361947591664066),\n",
       " ('comprehensive', 0.03127786570241257),\n",
       " ('syrian', 0.03126168664316651),\n",
       " ('trusted', 0.031208943303488994),\n",
       " ('plane', 0.031000583244269582),\n",
       " ('roe', 0.03089733588287844)]"
      ]
     },
     "execution_count": 21,
     "metadata": {},
     "output_type": "execute_result"
    }
   ],
   "source": [
    "keywords[-20:]"
   ]
  },
  {
   "cell_type": "code",
   "execution_count": null,
   "metadata": {},
   "outputs": [],
   "source": []
  }
 ],
 "metadata": {
  "kernelspec": {
   "display_name": "audio-data-insights",
   "language": "python",
   "name": "audio-data-insights"
  },
  "language_info": {
   "codemirror_mode": {
    "name": "ipython",
    "version": 3
   },
   "file_extension": ".py",
   "mimetype": "text/x-python",
   "name": "python",
   "nbconvert_exporter": "python",
   "pygments_lexer": "ipython3",
   "version": "3.6.5"
  }
 },
 "nbformat": 4,
 "nbformat_minor": 2
}
