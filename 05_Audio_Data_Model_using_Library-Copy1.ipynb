{
 "cells": [
  {
   "cell_type": "markdown",
   "metadata": {},
   "source": [
    "# Audio Data Model (using a Library)"
   ]
  },
  {
   "cell_type": "markdown",
   "metadata": {},
   "source": [
    "#### Ryan Bales (@ryanbales)<br>ryan@balesofdata.com"
   ]
  },
  {
   "cell_type": "markdown",
   "metadata": {},
   "source": [
    "***"
   ]
  },
  {
   "cell_type": "markdown",
   "metadata": {},
   "source": [
    "### Import Packages"
   ]
  },
  {
   "cell_type": "code",
   "execution_count": 1,
   "metadata": {},
   "outputs": [
    {
     "name": "stderr",
     "output_type": "stream",
     "text": [
      "Using TensorFlow backend.\n"
     ]
    }
   ],
   "source": [
    "from pyaudioclassification import feature_extraction, train, predict\n",
    "import numpy as np\n",
    "import pandas as pd\n",
    "import os"
   ]
  },
  {
   "cell_type": "markdown",
   "metadata": {},
   "source": [
    "## Data Preprocessing"
   ]
  },
  {
   "cell_type": "code",
   "execution_count": 60,
   "metadata": {},
   "outputs": [
    {
     "name": "stderr",
     "output_type": "stream",
     "text": [
      "  0%|          | 0/84 [00:00<?, ?it/s]"
     ]
    },
    {
     "name": "stdout",
     "output_type": "stream",
     "text": [
      "Reading data/audio_train/train/Acoustic_guitar/*.wav ...\n"
     ]
    },
    {
     "name": "stderr",
     "output_type": "stream",
     "text": [
      "100%|██████████| 84/84 [01:39<00:00,  1.19it/s]\n",
      "  0%|          | 0/49 [00:00<?, ?it/s]"
     ]
    },
    {
     "name": "stdout",
     "output_type": "stream",
     "text": [
      "Reading data/audio_train/train/Applause/*.wav ...\n"
     ]
    },
    {
     "name": "stderr",
     "output_type": "stream",
     "text": [
      "100%|██████████| 49/49 [01:03<00:00,  1.29s/it]\n",
      "  0%|          | 0/54 [00:00<?, ?it/s]"
     ]
    },
    {
     "name": "stdout",
     "output_type": "stream",
     "text": [
      "Reading data/audio_train/train/Bark/*.wav ...\n"
     ]
    },
    {
     "name": "stderr",
     "output_type": "stream",
     "text": [
      "100%|██████████| 54/54 [00:36<00:00,  2.21it/s]\n",
      "  0%|          | 0/54 [00:00<?, ?it/s]"
     ]
    },
    {
     "name": "stdout",
     "output_type": "stream",
     "text": [
      "Reading data/audio_train/train/Bass_drum/*.wav ...\n"
     ]
    },
    {
     "name": "stderr",
     "output_type": "stream",
     "text": [
      "100%|██████████| 54/54 [00:11<00:00,  5.69it/s]\n",
      "  0%|          | 0/60 [00:00<?, ?it/s]"
     ]
    },
    {
     "name": "stdout",
     "output_type": "stream",
     "text": [
      "Reading data/audio_train/train/Burping_or_eructation/*.wav ...\n"
     ]
    },
    {
     "name": "stderr",
     "output_type": "stream",
     "text": [
      "100%|██████████| 60/60 [00:18<00:00,  2.80it/s]\n",
      "  0%|          | 0/47 [00:00<?, ?it/s]"
     ]
    },
    {
     "name": "stdout",
     "output_type": "stream",
     "text": [
      "Reading data/audio_train/train/Bus/*.wav ...\n"
     ]
    },
    {
     "name": "stderr",
     "output_type": "stream",
     "text": [
      "100%|██████████| 47/47 [02:11<00:00,  2.62s/it]\n",
      "  0%|          | 0/100 [00:00<?, ?it/s]"
     ]
    },
    {
     "name": "stdout",
     "output_type": "stream",
     "text": [
      "Reading data/audio_train/train/Cello/*.wav ...\n"
     ]
    },
    {
     "name": "stderr",
     "output_type": "stream",
     "text": [
      "100%|██████████| 100/100 [01:27<00:00,  1.15s/it]\n",
      "  0%|          | 0/53 [00:00<?, ?it/s]"
     ]
    },
    {
     "name": "stdout",
     "output_type": "stream",
     "text": [
      "Reading data/audio_train/train/Chime/*.wav ...\n"
     ]
    },
    {
     "name": "stderr",
     "output_type": "stream",
     "text": [
      "100%|██████████| 53/53 [01:22<00:00,  1.73s/it]\n",
      "  1%|          | 1/104 [00:00<00:12,  8.02it/s]"
     ]
    },
    {
     "name": "stdout",
     "output_type": "stream",
     "text": [
      "Reading data/audio_train/train/Clarinet/*.wav ...\n"
     ]
    },
    {
     "name": "stderr",
     "output_type": "stream",
     "text": [
      "100%|██████████| 104/104 [01:52<00:00,  1.09s/it]\n",
      "  0%|          | 0/48 [00:00<?, ?it/s]"
     ]
    },
    {
     "name": "stdout",
     "output_type": "stream",
     "text": [
      "Reading data/audio_train/train/Computer_keyboard/*.wav ...\n"
     ]
    },
    {
     "name": "stderr",
     "output_type": "stream",
     "text": [
      "100%|██████████| 48/48 [01:25<00:00,  1.77s/it]\n",
      "  0%|          | 0/55 [00:00<?, ?it/s]"
     ]
    },
    {
     "name": "stdout",
     "output_type": "stream",
     "text": [
      "Reading data/audio_train/train/Cough/*.wav ...\n"
     ]
    },
    {
     "name": "stderr",
     "output_type": "stream",
     "text": [
      "100%|██████████| 55/55 [00:30<00:00,  1.07it/s]\n",
      "  0%|          | 0/77 [00:00<?, ?it/s]"
     ]
    },
    {
     "name": "stdout",
     "output_type": "stream",
     "text": [
      "Reading data/audio_train/train/Cowbell/*.wav ...\n"
     ]
    },
    {
     "name": "stderr",
     "output_type": "stream",
     "text": [
      "100%|██████████| 77/77 [00:29<00:00,  3.65it/s]\n",
      "  0%|          | 0/73 [00:00<?, ?it/s]"
     ]
    },
    {
     "name": "stdout",
     "output_type": "stream",
     "text": [
      "Reading data/audio_train/train/Double_bass/*.wav ...\n"
     ]
    },
    {
     "name": "stderr",
     "output_type": "stream",
     "text": [
      "100%|██████████| 73/73 [00:33<00:00,  2.37it/s]\n",
      "  2%|▏         | 1/54 [00:00<00:07,  6.82it/s]"
     ]
    },
    {
     "name": "stdout",
     "output_type": "stream",
     "text": [
      "Reading data/audio_train/train/Drawer_open_or_close/*.wav ...\n"
     ]
    },
    {
     "name": "stderr",
     "output_type": "stream",
     "text": [
      "100%|██████████| 54/54 [00:30<00:00,  1.71it/s]\n",
      "  0%|          | 0/59 [00:00<?, ?it/s]"
     ]
    },
    {
     "name": "stdout",
     "output_type": "stream",
     "text": [
      "Reading data/audio_train/train/Electric_piano/*.wav ...\n"
     ]
    },
    {
     "name": "stderr",
     "output_type": "stream",
     "text": [
      "100%|██████████| 59/59 [02:11<00:00,  1.50s/it]\n",
      "  0%|          | 0/57 [00:00<?, ?it/s]"
     ]
    },
    {
     "name": "stdout",
     "output_type": "stream",
     "text": [
      "Reading data/audio_train/train/Fart/*.wav ...\n"
     ]
    },
    {
     "name": "stderr",
     "output_type": "stream",
     "text": [
      "100%|██████████| 57/57 [00:19<00:00,  2.93it/s]\n",
      "  0%|          | 0/62 [00:00<?, ?it/s]"
     ]
    },
    {
     "name": "stdout",
     "output_type": "stream",
     "text": [
      "Reading data/audio_train/train/Finger_snapping/*.wav ...\n"
     ]
    },
    {
     "name": "stderr",
     "output_type": "stream",
     "text": [
      "100%|██████████| 62/62 [00:30<00:00,  1.30it/s]\n",
      "  0%|          | 0/60 [00:00<?, ?it/s]"
     ]
    },
    {
     "name": "stdout",
     "output_type": "stream",
     "text": [
      "Reading data/audio_train/train/Fireworks/*.wav ...\n"
     ]
    },
    {
     "name": "stderr",
     "output_type": "stream",
     "text": [
      "100%|██████████| 60/60 [00:50<00:00,  1.43it/s]\n",
      "  0%|          | 0/102 [00:00<?, ?it/s]"
     ]
    },
    {
     "name": "stdout",
     "output_type": "stream",
     "text": [
      "Reading data/audio_train/train/Flute/*.wav ...\n"
     ]
    },
    {
     "name": "stderr",
     "output_type": "stream",
     "text": [
      "100%|██████████| 102/102 [02:13<00:00,  1.29s/it]\n",
      "  0%|          | 0/56 [00:00<?, ?it/s]"
     ]
    },
    {
     "name": "stdout",
     "output_type": "stream",
     "text": [
      "Reading data/audio_train/train/Glockenspiel/*.wav ...\n"
     ]
    },
    {
     "name": "stderr",
     "output_type": "stream",
     "text": [
      "100%|██████████| 56/56 [00:44<00:00,  1.38it/s]\n",
      "  0%|          | 0/68 [00:00<?, ?it/s]"
     ]
    },
    {
     "name": "stdout",
     "output_type": "stream",
     "text": [
      "Reading data/audio_train/train/Gong/*.wav ...\n"
     ]
    },
    {
     "name": "stderr",
     "output_type": "stream",
     "text": [
      "100%|██████████| 68/68 [00:48<00:00,  2.19it/s]\n",
      "  1%|          | 1/116 [00:00<00:13,  8.78it/s]"
     ]
    },
    {
     "name": "stdout",
     "output_type": "stream",
     "text": [
      "Reading data/audio_train/train/Gunshot_or_gunfire/*.wav ...\n"
     ]
    },
    {
     "name": "stderr",
     "output_type": "stream",
     "text": [
      "100%|██████████| 116/116 [01:23<00:00,  2.09s/it]\n",
      "  0%|          | 0/70 [00:00<?, ?it/s]"
     ]
    },
    {
     "name": "stdout",
     "output_type": "stream",
     "text": [
      "Reading data/audio_train/train/Harmonica/*.wav ...\n"
     ]
    },
    {
     "name": "stderr",
     "output_type": "stream",
     "text": [
      "100%|██████████| 70/70 [01:08<00:00,  1.42s/it]\n",
      "  1%|▏         | 1/71 [00:00<00:12,  5.80it/s]"
     ]
    },
    {
     "name": "stdout",
     "output_type": "stream",
     "text": [
      "Reading data/audio_train/train/Hi-hat/*.wav ...\n"
     ]
    },
    {
     "name": "stderr",
     "output_type": "stream",
     "text": [
      "100%|██████████| 71/71 [00:29<00:00,  1.86it/s]\n",
      "  0%|          | 0/53 [00:00<?, ?it/s]"
     ]
    },
    {
     "name": "stdout",
     "output_type": "stream",
     "text": [
      "Reading data/audio_train/train/Keys_jangling/*.wav ...\n"
     ]
    },
    {
     "name": "stderr",
     "output_type": "stream",
     "text": [
      "100%|██████████| 53/53 [00:35<00:00,  2.09it/s]\n",
      "  0%|          | 0/72 [00:00<?, ?it/s]"
     ]
    },
    {
     "name": "stdout",
     "output_type": "stream",
     "text": [
      "Reading data/audio_train/train/Knock/*.wav ...\n"
     ]
    },
    {
     "name": "stderr",
     "output_type": "stream",
     "text": [
      "100%|██████████| 72/72 [00:28<00:00,  3.65it/s]\n",
      "  0%|          | 0/70 [00:00<?, ?it/s]"
     ]
    },
    {
     "name": "stdout",
     "output_type": "stream",
     "text": [
      "Reading data/audio_train/train/Laughter/*.wav ...\n"
     ]
    },
    {
     "name": "stderr",
     "output_type": "stream",
     "text": [
      "100%|██████████| 70/70 [01:08<00:00,  1.88it/s]\n",
      "  2%|▏         | 1/55 [00:00<00:09,  5.79it/s]"
     ]
    },
    {
     "name": "stdout",
     "output_type": "stream",
     "text": [
      "Reading data/audio_train/train/Meow/*.wav ...\n"
     ]
    },
    {
     "name": "stderr",
     "output_type": "stream",
     "text": [
      "100%|██████████| 55/55 [00:30<00:00,  3.04it/s]\n",
      "  0%|          | 0/54 [00:00<?, ?it/s]"
     ]
    },
    {
     "name": "stdout",
     "output_type": "stream",
     "text": [
      "Reading data/audio_train/train/Microwave_oven/*.wav ...\n"
     ]
    },
    {
     "name": "stderr",
     "output_type": "stream",
     "text": [
      "100%|██████████| 54/54 [00:31<00:00,  2.28it/s]\n",
      "  0%|          | 0/79 [00:00<?, ?it/s]"
     ]
    },
    {
     "name": "stdout",
     "output_type": "stream",
     "text": [
      "Reading data/audio_train/train/Oboe/*.wav ...\n"
     ]
    },
    {
     "name": "stderr",
     "output_type": "stream",
     "text": [
      "100%|██████████| 79/79 [00:40<00:00,  2.88it/s]\n",
      "  0%|          | 0/205 [00:00<?, ?it/s]"
     ]
    },
    {
     "name": "stdout",
     "output_type": "stream",
     "text": [
      "Reading data/audio_train/train/Saxophone/*.wav ...\n"
     ]
    },
    {
     "name": "stderr",
     "output_type": "stream",
     "text": [
      "100%|██████████| 205/205 [03:48<00:00,  1.08s/it]\n",
      "  0%|          | 0/47 [00:00<?, ?it/s]"
     ]
    },
    {
     "name": "stdout",
     "output_type": "stream",
     "text": [
      "Reading data/audio_train/train/Scissors/*.wav ...\n"
     ]
    },
    {
     "name": "stderr",
     "output_type": "stream",
     "text": [
      "100%|██████████| 47/47 [01:13<00:00,  1.97s/it]\n",
      "  0%|          | 0/54 [00:00<?, ?it/s]"
     ]
    },
    {
     "name": "stdout",
     "output_type": "stream",
     "text": [
      "Reading data/audio_train/train/Shatter/*.wav ...\n"
     ]
    },
    {
     "name": "stderr",
     "output_type": "stream",
     "text": [
      "100%|██████████| 54/54 [00:34<00:00,  1.75it/s]\n",
      "  0%|          | 0/56 [00:00<?, ?it/s]"
     ]
    },
    {
     "name": "stdout",
     "output_type": "stream",
     "text": [
      "Reading data/audio_train/train/Snare_drum/*.wav ...\n"
     ]
    },
    {
     "name": "stderr",
     "output_type": "stream",
     "text": [
      "100%|██████████| 56/56 [00:36<00:00,  2.65it/s]\n",
      "  0%|          | 0/55 [00:00<?, ?it/s]"
     ]
    },
    {
     "name": "stdout",
     "output_type": "stream",
     "text": [
      "Reading data/audio_train/train/Squeak/*.wav ...\n"
     ]
    },
    {
     "name": "stderr",
     "output_type": "stream",
     "text": [
      "100%|██████████| 55/55 [00:32<00:00,  2.15it/s]\n",
      "  0%|          | 0/73 [00:00<?, ?it/s]"
     ]
    },
    {
     "name": "stdout",
     "output_type": "stream",
     "text": [
      "Reading data/audio_train/train/Tambourine/*.wav ...\n"
     ]
    },
    {
     "name": "stderr",
     "output_type": "stream",
     "text": [
      "100%|██████████| 73/73 [00:21<00:00,  3.77it/s]\n",
      "  2%|▏         | 1/50 [00:00<00:05,  8.96it/s]"
     ]
    },
    {
     "name": "stdout",
     "output_type": "stream",
     "text": [
      "Reading data/audio_train/train/Tearing/*.wav ...\n"
     ]
    },
    {
     "name": "stderr",
     "output_type": "stream",
     "text": [
      "100%|██████████| 50/50 [00:32<00:00,  1.41it/s]\n",
      "  0%|          | 0/89 [00:00<?, ?it/s]"
     ]
    },
    {
     "name": "stdout",
     "output_type": "stream",
     "text": [
      "Reading data/audio_train/train/Telephone/*.wav ...\n"
     ]
    },
    {
     "name": "stderr",
     "output_type": "stream",
     "text": [
      "100%|██████████| 89/89 [02:00<00:00,  1.33s/it]\n",
      "  0%|          | 0/69 [00:00<?, ?it/s]"
     ]
    },
    {
     "name": "stdout",
     "output_type": "stream",
     "text": [
      "Reading data/audio_train/train/Trumpet/*.wav ...\n"
     ]
    },
    {
     "name": "stderr",
     "output_type": "stream",
     "text": [
      "100%|██████████| 69/69 [01:09<00:00,  1.67it/s]\n",
      "  0%|          | 0/200 [00:00<?, ?it/s]"
     ]
    },
    {
     "name": "stdout",
     "output_type": "stream",
     "text": [
      "Reading data/audio_train/train/Violin_or_fiddle/*.wav ...\n"
     ]
    },
    {
     "name": "stderr",
     "output_type": "stream",
     "text": [
      "100%|██████████| 200/200 [02:35<00:00,  2.60it/s]\n",
      "  2%|▏         | 1/54 [00:00<00:08,  6.33it/s]"
     ]
    },
    {
     "name": "stdout",
     "output_type": "stream",
     "text": [
      "Reading data/audio_train/train/Writing/*.wav ...\n"
     ]
    },
    {
     "name": "stderr",
     "output_type": "stream",
     "text": [
      "100%|██████████| 54/54 [00:59<00:00,  1.00it/s]\n"
     ]
    }
   ],
   "source": [
    "features, labels = feature_extraction(\"data/audio_train/train\")"
   ]
  },
  {
   "cell_type": "markdown",
   "metadata": {},
   "source": [
    "### Save Preprocessing Results"
   ]
  },
  {
   "cell_type": "markdown",
   "metadata": {},
   "source": [
    "Note:  We're saving the extracted feature to a file in case we need them later on.  This helps us not have to re-run the Data Processing step."
   ]
  },
  {
   "cell_type": "code",
   "execution_count": 6,
   "metadata": {},
   "outputs": [],
   "source": [
    "np.save(\"models/basic/features.npy\", features)\n",
    "np.save(\"models/basic/labels.npy\", labels)"
   ]
  },
  {
   "cell_type": "markdown",
   "metadata": {},
   "source": [
    "### Model Training"
   ]
  },
  {
   "cell_type": "markdown",
   "metadata": {},
   "source": [
    "Optional Parameters\n",
    "* **epochs**: The number of iterations. Default is **50**.\n",
    "\n",
    "* **lr**: Learning rate. Increase to speed up training time, decrease to get more accurate results (if your loss is 'jumping'). Default is **0.01**.\n",
    "\n",
    "* **optimiser**: [List](https://keras.io/optimizers/) Default is **SGD**.\n",
    "\n",
    "* **print_summary**: Prints a summary of the model you'll be training. Default is **False**.\n",
    "\n",
    "* **loss_type**: Classification type. Default is categorical for >2 classes, and binary otherwise."
   ]
  },
  {
   "cell_type": "code",
   "execution_count": 7,
   "metadata": {},
   "outputs": [],
   "source": [
    "features = np.load(\"models/basic/features.npy\")\n",
    "labels = np.load(\"models/basic/labels.npy\")"
   ]
  },
  {
   "cell_type": "code",
   "execution_count": 8,
   "metadata": {},
   "outputs": [
    {
     "name": "stdout",
     "output_type": "stream",
     "text": [
      "Epoch 1/250\n",
      "2968/2968 [==============================] - 2s 772us/step - loss: 3.8086 - acc: 0.0283\n",
      "Epoch 2/250\n",
      "2968/2968 [==============================] - 2s 593us/step - loss: 3.7504 - acc: 0.0384\n",
      "Epoch 3/250\n",
      "2968/2968 [==============================] - 2s 589us/step - loss: 3.7081 - acc: 0.0411\n",
      "Epoch 4/250\n",
      "2968/2968 [==============================] - 2s 562us/step - loss: 3.6872 - acc: 0.0499\n",
      "Epoch 5/250\n",
      "2968/2968 [==============================] - 2s 581us/step - loss: 3.6705 - acc: 0.0539\n",
      "Epoch 6/250\n",
      "2968/2968 [==============================] - 2s 584us/step - loss: 3.6611 - acc: 0.0610\n",
      "Epoch 7/250\n",
      "2968/2968 [==============================] - 2s 574us/step - loss: 3.6484 - acc: 0.0637\n",
      "Epoch 8/250\n",
      "2968/2968 [==============================] - 2s 599us/step - loss: 3.6452 - acc: 0.0610\n",
      "Epoch 9/250\n",
      "2968/2968 [==============================] - 2s 586us/step - loss: 3.6383 - acc: 0.0627\n",
      "Epoch 10/250\n",
      "2968/2968 [==============================] - 2s 589us/step - loss: 3.6328 - acc: 0.0647\n",
      "Epoch 11/250\n",
      "2968/2968 [==============================] - 2s 598us/step - loss: 3.6327 - acc: 0.0576\n",
      "Epoch 12/250\n",
      "2968/2968 [==============================] - 2s 573us/step - loss: 3.6281 - acc: 0.0681\n",
      "Epoch 13/250\n",
      "2968/2968 [==============================] - 2s 575us/step - loss: 3.6218 - acc: 0.0637\n",
      "Epoch 14/250\n",
      "2968/2968 [==============================] - 2s 596us/step - loss: 3.6156 - acc: 0.0681\n",
      "Epoch 15/250\n",
      "2968/2968 [==============================] - 2s 592us/step - loss: 3.6064 - acc: 0.0660\n",
      "Epoch 16/250\n",
      "2968/2968 [==============================] - 2s 593us/step - loss: 3.6044 - acc: 0.0677\n",
      "Epoch 17/250\n",
      "2968/2968 [==============================] - 2s 604us/step - loss: 3.6075 - acc: 0.0711\n",
      "Epoch 18/250\n",
      "2968/2968 [==============================] - 2s 594us/step - loss: 3.5955 - acc: 0.0704\n",
      "Epoch 19/250\n",
      "2968/2968 [==============================] - 2s 599us/step - loss: 3.6040 - acc: 0.0718\n",
      "Epoch 20/250\n",
      "2968/2968 [==============================] - 2s 593us/step - loss: 3.5956 - acc: 0.0694\n",
      "Epoch 21/250\n",
      "2968/2968 [==============================] - 2s 590us/step - loss: 3.5920 - acc: 0.0745\n",
      "Epoch 22/250\n",
      "2968/2968 [==============================] - 2s 602us/step - loss: 3.5816 - acc: 0.0718\n",
      "Epoch 23/250\n",
      "2968/2968 [==============================] - 2s 596us/step - loss: 3.5975 - acc: 0.0704\n",
      "Epoch 24/250\n",
      "2968/2968 [==============================] - 2s 608us/step - loss: 3.5879 - acc: 0.0724\n",
      "Epoch 25/250\n",
      "2968/2968 [==============================] - 2s 618us/step - loss: 3.5856 - acc: 0.0755\n",
      "Epoch 26/250\n",
      "2968/2968 [==============================] - 2s 616us/step - loss: 3.5806 - acc: 0.0748\n",
      "Epoch 27/250\n",
      "2968/2968 [==============================] - 2s 612us/step - loss: 3.5781 - acc: 0.0745\n",
      "Epoch 28/250\n",
      "2968/2968 [==============================] - 2s 614us/step - loss: 3.5814 - acc: 0.0761\n",
      "Epoch 29/250\n",
      "2968/2968 [==============================] - 2s 605us/step - loss: 3.5760 - acc: 0.0782\n",
      "Epoch 30/250\n",
      "2968/2968 [==============================] - 2s 618us/step - loss: 3.5650 - acc: 0.0812\n",
      "Epoch 31/250\n",
      "2968/2968 [==============================] - 2s 616us/step - loss: 3.5621 - acc: 0.0772\n",
      "Epoch 32/250\n",
      "2968/2968 [==============================] - 2s 609us/step - loss: 3.5703 - acc: 0.0768\n",
      "Epoch 33/250\n",
      "2968/2968 [==============================] - 2s 620us/step - loss: 3.5737 - acc: 0.0721\n",
      "Epoch 34/250\n",
      "2968/2968 [==============================] - 2s 612us/step - loss: 3.5616 - acc: 0.0758\n",
      "Epoch 35/250\n",
      "2968/2968 [==============================] - 2s 611us/step - loss: 3.5661 - acc: 0.0805\n",
      "Epoch 36/250\n",
      "2968/2968 [==============================] - 2s 609us/step - loss: 3.5668 - acc: 0.0775\n",
      "Epoch 37/250\n",
      "2968/2968 [==============================] - 2s 633us/step - loss: 3.5627 - acc: 0.0782\n",
      "Epoch 38/250\n",
      "2968/2968 [==============================] - 2s 612us/step - loss: 3.5578 - acc: 0.0795\n",
      "Epoch 39/250\n",
      "2968/2968 [==============================] - 2s 626us/step - loss: 3.5600 - acc: 0.0775\n",
      "Epoch 40/250\n",
      "2968/2968 [==============================] - 2s 634us/step - loss: 3.5548 - acc: 0.0809\n",
      "Epoch 41/250\n",
      "2968/2968 [==============================] - 2s 635us/step - loss: 3.5518 - acc: 0.0809\n",
      "Epoch 42/250\n",
      "2968/2968 [==============================] - 2s 607us/step - loss: 3.5585 - acc: 0.0859\n",
      "Epoch 43/250\n",
      "2968/2968 [==============================] - 2s 616us/step - loss: 3.5414 - acc: 0.0849\n",
      "Epoch 44/250\n",
      "2968/2968 [==============================] - 2s 625us/step - loss: 3.5456 - acc: 0.0802\n",
      "Epoch 45/250\n",
      "2968/2968 [==============================] - 2s 610us/step - loss: 3.5473 - acc: 0.0852\n",
      "Epoch 46/250\n",
      "2968/2968 [==============================] - 2s 613us/step - loss: 3.5513 - acc: 0.0839\n",
      "Epoch 47/250\n",
      "2968/2968 [==============================] - 2s 637us/step - loss: 3.5503 - acc: 0.0842\n",
      "Epoch 48/250\n",
      "2968/2968 [==============================] - 2s 608us/step - loss: 3.5468 - acc: 0.0825\n",
      "Epoch 49/250\n",
      "2968/2968 [==============================] - 2s 619us/step - loss: 3.5449 - acc: 0.0836\n",
      "Epoch 50/250\n",
      "2968/2968 [==============================] - 2s 629us/step - loss: 3.5379 - acc: 0.0879\n",
      "Epoch 51/250\n",
      "2968/2968 [==============================] - 2s 628us/step - loss: 3.5374 - acc: 0.0805\n",
      "Epoch 52/250\n",
      "2968/2968 [==============================] - 2s 603us/step - loss: 3.5340 - acc: 0.0886\n",
      "Epoch 53/250\n",
      "2968/2968 [==============================] - 2s 594us/step - loss: 3.5334 - acc: 0.0866\n",
      "Epoch 54/250\n",
      "2968/2968 [==============================] - 2s 623us/step - loss: 3.5323 - acc: 0.0873\n",
      "Epoch 55/250\n",
      "2968/2968 [==============================] - 2s 604us/step - loss: 3.5310 - acc: 0.0920\n",
      "Epoch 56/250\n",
      "2968/2968 [==============================] - 2s 619us/step - loss: 3.5193 - acc: 0.0970\n",
      "Epoch 57/250\n",
      "2968/2968 [==============================] - 2s 621us/step - loss: 3.5320 - acc: 0.0893\n",
      "Epoch 58/250\n",
      "2968/2968 [==============================] - 2s 645us/step - loss: 3.5271 - acc: 0.0957\n",
      "Epoch 59/250\n",
      "2968/2968 [==============================] - 2s 629us/step - loss: 3.5213 - acc: 0.0900\n",
      "Epoch 60/250\n",
      "2968/2968 [==============================] - 2s 625us/step - loss: 3.5304 - acc: 0.0930\n",
      "Epoch 61/250\n",
      "2968/2968 [==============================] - 2s 615us/step - loss: 3.5127 - acc: 0.0873\n",
      "Epoch 62/250\n",
      "2968/2968 [==============================] - 2s 607us/step - loss: 3.5232 - acc: 0.0913\n",
      "Epoch 63/250\n",
      "2968/2968 [==============================] - 2s 628us/step - loss: 3.5133 - acc: 0.0896\n",
      "Epoch 64/250\n",
      "2968/2968 [==============================] - 2s 605us/step - loss: 3.5056 - acc: 0.0964\n",
      "Epoch 65/250\n",
      "2968/2968 [==============================] - 2s 618us/step - loss: 3.5071 - acc: 0.0964\n",
      "Epoch 66/250\n",
      "2968/2968 [==============================] - 2s 620us/step - loss: 3.5107 - acc: 0.0893\n",
      "Epoch 67/250\n",
      "2968/2968 [==============================] - 2s 629us/step - loss: 3.5159 - acc: 0.0947\n",
      "Epoch 68/250\n",
      "2968/2968 [==============================] - 2s 613us/step - loss: 3.5078 - acc: 0.0896\n",
      "Epoch 69/250\n",
      "2968/2968 [==============================] - 2s 625us/step - loss: 3.5046 - acc: 0.0916\n",
      "Epoch 70/250\n",
      "2968/2968 [==============================] - 2s 602us/step - loss: 3.5024 - acc: 0.0933\n",
      "Epoch 71/250\n",
      "2968/2968 [==============================] - 2s 615us/step - loss: 3.5057 - acc: 0.1011\n",
      "Epoch 72/250\n",
      "2968/2968 [==============================] - 2s 623us/step - loss: 3.5031 - acc: 0.0967\n",
      "Epoch 73/250\n",
      "2968/2968 [==============================] - 2s 617us/step - loss: 3.5063 - acc: 0.0906\n",
      "Epoch 74/250\n",
      "2968/2968 [==============================] - 2s 612us/step - loss: 3.5018 - acc: 0.1028\n",
      "Epoch 75/250\n",
      "2968/2968 [==============================] - 2s 630us/step - loss: 3.5022 - acc: 0.1014\n",
      "Epoch 76/250\n",
      "2968/2968 [==============================] - 2s 622us/step - loss: 3.4904 - acc: 0.0964\n",
      "Epoch 77/250\n",
      "2968/2968 [==============================] - 2s 601us/step - loss: 3.4871 - acc: 0.1004\n",
      "Epoch 78/250\n",
      "2968/2968 [==============================] - 2s 634us/step - loss: 3.5003 - acc: 0.0970\n",
      "Epoch 79/250\n",
      "2968/2968 [==============================] - 2s 618us/step - loss: 3.4825 - acc: 0.1044\n",
      "Epoch 80/250\n",
      "2968/2968 [==============================] - 2s 630us/step - loss: 3.4928 - acc: 0.1007\n",
      "Epoch 81/250\n",
      "2968/2968 [==============================] - 2s 620us/step - loss: 3.4906 - acc: 0.0987\n",
      "Epoch 82/250\n",
      "2968/2968 [==============================] - 2s 616us/step - loss: 3.4789 - acc: 0.0987\n",
      "Epoch 83/250\n",
      "2968/2968 [==============================] - 2s 632us/step - loss: 3.4901 - acc: 0.0994\n",
      "Epoch 84/250\n",
      "2968/2968 [==============================] - 2s 623us/step - loss: 3.4895 - acc: 0.0991\n",
      "Epoch 85/250\n",
      "2968/2968 [==============================] - 2s 636us/step - loss: 3.4794 - acc: 0.1021\n",
      "Epoch 86/250\n",
      "2968/2968 [==============================] - 2s 603us/step - loss: 3.4752 - acc: 0.1028\n",
      "Epoch 87/250\n",
      "2968/2968 [==============================] - 2s 643us/step - loss: 3.4804 - acc: 0.1011\n",
      "Epoch 88/250\n",
      "2968/2968 [==============================] - 2s 616us/step - loss: 3.4806 - acc: 0.1034\n",
      "Epoch 89/250\n",
      "2968/2968 [==============================] - 2s 640us/step - loss: 3.4805 - acc: 0.1034\n",
      "Epoch 90/250\n",
      "2968/2968 [==============================] - 2s 633us/step - loss: 3.4744 - acc: 0.1024\n",
      "Epoch 91/250\n",
      "2968/2968 [==============================] - 2s 625us/step - loss: 3.4682 - acc: 0.1071\n",
      "Epoch 92/250\n",
      "2968/2968 [==============================] - 2s 640us/step - loss: 3.4762 - acc: 0.0984\n",
      "Epoch 93/250\n",
      "2968/2968 [==============================] - 2s 609us/step - loss: 3.4777 - acc: 0.1014\n",
      "Epoch 94/250\n",
      "2968/2968 [==============================] - 2s 650us/step - loss: 3.4657 - acc: 0.1071\n",
      "Epoch 95/250\n",
      "2968/2968 [==============================] - 2s 639us/step - loss: 3.4663 - acc: 0.1031\n",
      "Epoch 96/250\n",
      "2968/2968 [==============================] - 2s 673us/step - loss: 3.4665 - acc: 0.1007\n",
      "Epoch 97/250\n",
      "2968/2968 [==============================] - 2s 678us/step - loss: 3.4573 - acc: 0.1031\n",
      "Epoch 98/250\n",
      "2968/2968 [==============================] - 2s 641us/step - loss: 3.4712 - acc: 0.1051\n",
      "Epoch 99/250\n",
      "2968/2968 [==============================] - 2s 663us/step - loss: 3.4711 - acc: 0.1041\n",
      "Epoch 100/250\n",
      "2968/2968 [==============================] - 2s 627us/step - loss: 3.4618 - acc: 0.1071\n",
      "Epoch 101/250\n",
      "2968/2968 [==============================] - 2s 611us/step - loss: 3.4576 - acc: 0.1034\n",
      "Epoch 102/250\n",
      "2968/2968 [==============================] - 2s 646us/step - loss: 3.4542 - acc: 0.1085\n",
      "Epoch 103/250\n",
      "2968/2968 [==============================] - 2s 619us/step - loss: 3.4561 - acc: 0.1092\n",
      "Epoch 104/250\n",
      "2968/2968 [==============================] - 2s 624us/step - loss: 3.4499 - acc: 0.1092\n",
      "Epoch 105/250\n",
      "2968/2968 [==============================] - 2s 664us/step - loss: 3.4580 - acc: 0.1071\n",
      "Epoch 106/250\n",
      "2968/2968 [==============================] - 2s 650us/step - loss: 3.4476 - acc: 0.1098\n",
      "Epoch 107/250\n",
      "2968/2968 [==============================] - 2s 639us/step - loss: 3.4454 - acc: 0.1028\n",
      "Epoch 108/250\n",
      "2968/2968 [==============================] - 2s 631us/step - loss: 3.4511 - acc: 0.1061\n",
      "Epoch 109/250\n",
      "2968/2968 [==============================] - 2s 636us/step - loss: 3.4456 - acc: 0.1085\n",
      "Epoch 110/250\n",
      "2968/2968 [==============================] - 2s 661us/step - loss: 3.4458 - acc: 0.1135\n",
      "Epoch 111/250\n",
      "2968/2968 [==============================] - 2s 674us/step - loss: 3.4394 - acc: 0.1092\n",
      "Epoch 112/250\n",
      "2968/2968 [==============================] - 2s 720us/step - loss: 3.4370 - acc: 0.1082\n",
      "Epoch 113/250\n",
      "2968/2968 [==============================] - 3s 873us/step - loss: 3.4310 - acc: 0.1179\n",
      "Epoch 114/250\n",
      "2968/2968 [==============================] - 2s 791us/step - loss: 3.4352 - acc: 0.1135\n",
      "Epoch 115/250\n",
      "2968/2968 [==============================] - 2s 840us/step - loss: 3.4302 - acc: 0.1152\n",
      "Epoch 116/250\n",
      "2968/2968 [==============================] - 2s 797us/step - loss: 3.4461 - acc: 0.1071\n",
      "Epoch 117/250\n",
      "2968/2968 [==============================] - 2s 782us/step - loss: 3.4236 - acc: 0.1095\n",
      "Epoch 118/250\n",
      "2968/2968 [==============================] - 2s 775us/step - loss: 3.4368 - acc: 0.1092\n",
      "Epoch 119/250\n",
      "2968/2968 [==============================] - 2s 778us/step - loss: 3.4363 - acc: 0.1085\n",
      "Epoch 120/250\n",
      "2968/2968 [==============================] - 2s 725us/step - loss: 3.4316 - acc: 0.1061\n",
      "Epoch 121/250\n",
      "2968/2968 [==============================] - 2s 670us/step - loss: 3.4250 - acc: 0.1102\n",
      "Epoch 122/250\n",
      "2968/2968 [==============================] - 2s 730us/step - loss: 3.4335 - acc: 0.1132\n",
      "Epoch 123/250\n",
      "2968/2968 [==============================] - 2s 793us/step - loss: 3.4223 - acc: 0.1102\n",
      "Epoch 124/250\n",
      "2968/2968 [==============================] - 2s 655us/step - loss: 3.4309 - acc: 0.1078\n",
      "Epoch 125/250\n",
      "2968/2968 [==============================] - 2s 654us/step - loss: 3.4172 - acc: 0.1132\n",
      "Epoch 126/250\n",
      "2968/2968 [==============================] - 2s 647us/step - loss: 3.4232 - acc: 0.1142\n",
      "Epoch 127/250\n",
      "2968/2968 [==============================] - 2s 707us/step - loss: 3.4173 - acc: 0.1139\n",
      "Epoch 128/250\n",
      "2968/2968 [==============================] - 2s 703us/step - loss: 3.4232 - acc: 0.1119\n",
      "Epoch 129/250\n",
      "2968/2968 [==============================] - 2s 663us/step - loss: 3.4134 - acc: 0.1132\n",
      "Epoch 130/250\n",
      "2968/2968 [==============================] - 2s 654us/step - loss: 3.4140 - acc: 0.1142\n",
      "Epoch 131/250\n",
      "2968/2968 [==============================] - 2s 634us/step - loss: 3.4091 - acc: 0.1142\n",
      "Epoch 132/250\n",
      "2968/2968 [==============================] - 2s 611us/step - loss: 3.4150 - acc: 0.1092\n",
      "Epoch 133/250\n",
      "2968/2968 [==============================] - 2s 649us/step - loss: 3.4194 - acc: 0.1119\n",
      "Epoch 134/250\n",
      "2968/2968 [==============================] - 2s 644us/step - loss: 3.4072 - acc: 0.1108\n",
      "Epoch 135/250\n",
      "2968/2968 [==============================] - 2s 646us/step - loss: 3.3960 - acc: 0.1149\n",
      "Epoch 136/250\n",
      "2968/2968 [==============================] - 2s 673us/step - loss: 3.4150 - acc: 0.1132\n",
      "Epoch 137/250\n",
      "2968/2968 [==============================] - 2s 703us/step - loss: 3.4008 - acc: 0.1213\n",
      "Epoch 138/250\n",
      "2968/2968 [==============================] - 2s 668us/step - loss: 3.4020 - acc: 0.1176\n",
      "Epoch 139/250\n",
      "2968/2968 [==============================] - 2s 635us/step - loss: 3.3986 - acc: 0.1173\n",
      "Epoch 140/250\n",
      "2968/2968 [==============================] - 2s 629us/step - loss: 3.4086 - acc: 0.1129\n",
      "Epoch 141/250\n",
      "2968/2968 [==============================] - 2s 659us/step - loss: 3.4050 - acc: 0.1210\n",
      "Epoch 142/250\n",
      "2968/2968 [==============================] - 2s 664us/step - loss: 3.4008 - acc: 0.1095\n",
      "Epoch 143/250\n",
      "2968/2968 [==============================] - 2s 650us/step - loss: 3.3824 - acc: 0.1176\n",
      "Epoch 144/250\n",
      "2968/2968 [==============================] - 2s 628us/step - loss: 3.3903 - acc: 0.1125\n",
      "Epoch 145/250\n",
      "2968/2968 [==============================] - 2s 634us/step - loss: 3.3982 - acc: 0.1129\n",
      "Epoch 146/250\n",
      "2968/2968 [==============================] - 2s 635us/step - loss: 3.3908 - acc: 0.1115\n",
      "Epoch 147/250\n",
      "2968/2968 [==============================] - 2s 637us/step - loss: 3.3964 - acc: 0.1183\n",
      "Epoch 148/250\n",
      "2968/2968 [==============================] - 2s 647us/step - loss: 3.3787 - acc: 0.1186\n",
      "Epoch 149/250\n",
      "2968/2968 [==============================] - 2s 641us/step - loss: 3.3949 - acc: 0.1159\n",
      "Epoch 150/250\n",
      "2968/2968 [==============================] - 2s 646us/step - loss: 3.3816 - acc: 0.1176\n",
      "Epoch 151/250\n",
      "2968/2968 [==============================] - 2s 735us/step - loss: 3.3861 - acc: 0.1142\n",
      "Epoch 152/250\n",
      "2968/2968 [==============================] - 2s 698us/step - loss: 3.3846 - acc: 0.1135\n",
      "Epoch 153/250\n",
      "2968/2968 [==============================] - 3s 938us/step - loss: 3.3783 - acc: 0.1149\n",
      "Epoch 154/250\n",
      "2968/2968 [==============================] - 3s 1ms/step - loss: 3.3845 - acc: 0.1173\n",
      "Epoch 155/250\n",
      "2968/2968 [==============================] - 2s 788us/step - loss: 3.3833 - acc: 0.1263\n",
      "Epoch 156/250\n",
      "2968/2968 [==============================] - 2s 737us/step - loss: 3.3853 - acc: 0.1146\n",
      "Epoch 157/250\n",
      "2968/2968 [==============================] - 2s 747us/step - loss: 3.3762 - acc: 0.1189\n",
      "Epoch 158/250\n",
      "2968/2968 [==============================] - 2s 750us/step - loss: 3.3786 - acc: 0.1162\n",
      "Epoch 159/250\n",
      "2968/2968 [==============================] - 2s 723us/step - loss: 3.3718 - acc: 0.1156\n",
      "Epoch 160/250\n",
      "2968/2968 [==============================] - 2s 717us/step - loss: 3.3788 - acc: 0.1142\n",
      "Epoch 161/250\n",
      "2968/2968 [==============================] - 2s 749us/step - loss: 3.3722 - acc: 0.1216\n",
      "Epoch 162/250\n",
      "2968/2968 [==============================] - 2s 778us/step - loss: 3.3724 - acc: 0.1193\n",
      "Epoch 163/250\n",
      "2968/2968 [==============================] - 2s 744us/step - loss: 3.3546 - acc: 0.1247\n",
      "Epoch 164/250\n",
      "2968/2968 [==============================] - 2s 772us/step - loss: 3.3597 - acc: 0.1230\n",
      "Epoch 165/250\n",
      "2968/2968 [==============================] - 2s 774us/step - loss: 3.3625 - acc: 0.1253\n",
      "Epoch 166/250\n",
      "2968/2968 [==============================] - 2s 757us/step - loss: 3.3566 - acc: 0.1226\n",
      "Epoch 167/250\n",
      "2968/2968 [==============================] - 2s 752us/step - loss: 3.3654 - acc: 0.1152\n",
      "Epoch 168/250\n",
      "2968/2968 [==============================] - 2s 765us/step - loss: 3.3541 - acc: 0.1240\n",
      "Epoch 169/250\n",
      "2968/2968 [==============================] - 2s 753us/step - loss: 3.3532 - acc: 0.1179\n",
      "Epoch 170/250\n",
      "2968/2968 [==============================] - 2s 739us/step - loss: 3.3537 - acc: 0.1152\n",
      "Epoch 171/250\n",
      "2968/2968 [==============================] - 2s 837us/step - loss: 3.3435 - acc: 0.1297\n",
      "Epoch 172/250\n",
      "2968/2968 [==============================] - 3s 852us/step - loss: 3.3591 - acc: 0.1176\n",
      "Epoch 173/250\n",
      "2968/2968 [==============================] - 2s 753us/step - loss: 3.3483 - acc: 0.1173\n",
      "Epoch 174/250\n",
      "2968/2968 [==============================] - 2s 795us/step - loss: 3.3578 - acc: 0.1250\n",
      "Epoch 175/250\n",
      "2968/2968 [==============================] - 2s 833us/step - loss: 3.3552 - acc: 0.1199\n",
      "Epoch 176/250\n",
      "2968/2968 [==============================] - 3s 1ms/step - loss: 3.3565 - acc: 0.1223\n",
      "Epoch 177/250\n",
      "2968/2968 [==============================] - 3s 1ms/step - loss: 3.3462 - acc: 0.1216\n",
      "Epoch 178/250\n",
      "2968/2968 [==============================] - 3s 946us/step - loss: 3.3431 - acc: 0.1253\n",
      "Epoch 179/250\n",
      "2968/2968 [==============================] - 2s 808us/step - loss: 3.3460 - acc: 0.1230\n",
      "Epoch 180/250\n",
      "2968/2968 [==============================] - 2s 778us/step - loss: 3.3471 - acc: 0.1203\n",
      "Epoch 181/250\n",
      "2968/2968 [==============================] - 2s 790us/step - loss: 3.3537 - acc: 0.1196\n",
      "Epoch 182/250\n",
      "2968/2968 [==============================] - 3s 861us/step - loss: 3.3535 - acc: 0.1253\n",
      "Epoch 183/250\n",
      "2968/2968 [==============================] - 2s 749us/step - loss: 3.3476 - acc: 0.1260\n",
      "Epoch 184/250\n",
      "2968/2968 [==============================] - 2s 750us/step - loss: 3.3413 - acc: 0.1223\n",
      "Epoch 185/250\n",
      "2968/2968 [==============================] - 2s 787us/step - loss: 3.3329 - acc: 0.1186\n",
      "Epoch 186/250\n",
      "2968/2968 [==============================] - 2s 835us/step - loss: 3.3480 - acc: 0.1173\n",
      "Epoch 187/250\n",
      "2968/2968 [==============================] - 2s 797us/step - loss: 3.3267 - acc: 0.1183\n",
      "Epoch 188/250\n",
      "2968/2968 [==============================] - 2s 796us/step - loss: 3.3314 - acc: 0.1263\n",
      "Epoch 189/250\n",
      "2968/2968 [==============================] - 3s 845us/step - loss: 3.3366 - acc: 0.1226\n",
      "Epoch 190/250\n",
      "2968/2968 [==============================] - 2s 785us/step - loss: 3.3305 - acc: 0.1280\n",
      "Epoch 191/250\n",
      "2968/2968 [==============================] - 2s 826us/step - loss: 3.3341 - acc: 0.1263\n",
      "Epoch 192/250\n",
      "2968/2968 [==============================] - 2s 842us/step - loss: 3.3267 - acc: 0.1250\n",
      "Epoch 193/250\n",
      "2968/2968 [==============================] - 2s 737us/step - loss: 3.3430 - acc: 0.1203\n",
      "Epoch 194/250\n",
      "2968/2968 [==============================] - 2s 769us/step - loss: 3.3318 - acc: 0.1270\n",
      "Epoch 195/250\n",
      "2968/2968 [==============================] - 2s 749us/step - loss: 3.3255 - acc: 0.1274\n",
      "Epoch 196/250\n",
      "2968/2968 [==============================] - 2s 770us/step - loss: 3.3278 - acc: 0.1301\n",
      "Epoch 197/250\n",
      "2968/2968 [==============================] - 2s 787us/step - loss: 3.3368 - acc: 0.1341\n",
      "Epoch 198/250\n",
      "2968/2968 [==============================] - 3s 910us/step - loss: 3.3266 - acc: 0.1304\n",
      "Epoch 199/250\n",
      "2968/2968 [==============================] - 3s 995us/step - loss: 3.3189 - acc: 0.1263\n",
      "Epoch 200/250\n",
      "2968/2968 [==============================] - 2s 827us/step - loss: 3.3277 - acc: 0.1233\n",
      "Epoch 201/250\n",
      "2968/2968 [==============================] - 2s 764us/step - loss: 3.3212 - acc: 0.1321\n",
      "Epoch 202/250\n",
      "2968/2968 [==============================] - 2s 818us/step - loss: 3.3223 - acc: 0.1314\n",
      "Epoch 203/250\n",
      "2968/2968 [==============================] - 2s 784us/step - loss: 3.3037 - acc: 0.1344\n",
      "Epoch 204/250\n",
      "2968/2968 [==============================] - 2s 784us/step - loss: 3.3211 - acc: 0.1297\n",
      "Epoch 205/250\n",
      "2968/2968 [==============================] - 3s 855us/step - loss: 3.3159 - acc: 0.1257\n",
      "Epoch 206/250\n",
      "2968/2968 [==============================] - 3s 863us/step - loss: 3.3202 - acc: 0.1277\n",
      "Epoch 207/250\n",
      "2968/2968 [==============================] - 2s 780us/step - loss: 3.3156 - acc: 0.1237\n",
      "Epoch 208/250\n",
      "2968/2968 [==============================] - 2s 746us/step - loss: 3.3195 - acc: 0.1348\n",
      "Epoch 209/250\n",
      "2968/2968 [==============================] - 2s 756us/step - loss: 3.3094 - acc: 0.1331\n",
      "Epoch 210/250\n",
      "2968/2968 [==============================] - 3s 848us/step - loss: 3.3045 - acc: 0.1365\n",
      "Epoch 211/250\n",
      "2968/2968 [==============================] - 2s 829us/step - loss: 3.3130 - acc: 0.1274\n",
      "Epoch 212/250\n",
      "2968/2968 [==============================] - 3s 854us/step - loss: 3.3108 - acc: 0.1331\n",
      "Epoch 213/250\n",
      "2968/2968 [==============================] - 3s 943us/step - loss: 3.3008 - acc: 0.1331\n",
      "Epoch 214/250\n",
      "2968/2968 [==============================] - 2s 805us/step - loss: 3.3108 - acc: 0.1233\n",
      "Epoch 215/250\n",
      "2968/2968 [==============================] - 3s 856us/step - loss: 3.3014 - acc: 0.1321\n",
      "Epoch 216/250\n",
      "2968/2968 [==============================] - 3s 876us/step - loss: 3.3104 - acc: 0.1314\n",
      "Epoch 217/250\n",
      "2968/2968 [==============================] - 3s 1ms/step - loss: 3.2952 - acc: 0.1348\n",
      "Epoch 218/250\n",
      "2968/2968 [==============================] - 3s 1ms/step - loss: 3.2987 - acc: 0.1368\n",
      "Epoch 219/250\n",
      "2968/2968 [==============================] - 2s 797us/step - loss: 3.2962 - acc: 0.1338\n",
      "Epoch 220/250\n",
      "2968/2968 [==============================] - 3s 925us/step - loss: 3.2962 - acc: 0.1365\n",
      "Epoch 221/250\n",
      "2968/2968 [==============================] - 3s 1ms/step - loss: 3.2874 - acc: 0.1304\n",
      "Epoch 222/250\n",
      "2968/2968 [==============================] - 3s 933us/step - loss: 3.2921 - acc: 0.1311\n",
      "Epoch 223/250\n",
      "2968/2968 [==============================] - 2s 695us/step - loss: 3.2911 - acc: 0.1321\n",
      "Epoch 224/250\n",
      "2968/2968 [==============================] - 2s 658us/step - loss: 3.3005 - acc: 0.1297\n",
      "Epoch 225/250\n",
      "2968/2968 [==============================] - 2s 645us/step - loss: 3.2900 - acc: 0.1344\n",
      "Epoch 226/250\n",
      "2968/2968 [==============================] - 2s 650us/step - loss: 3.2821 - acc: 0.1321\n",
      "Epoch 227/250\n",
      "2968/2968 [==============================] - 2s 770us/step - loss: 3.2849 - acc: 0.1290\n",
      "Epoch 228/250\n",
      "2968/2968 [==============================] - 2s 716us/step - loss: 3.2802 - acc: 0.1405\n",
      "Epoch 229/250\n",
      "2968/2968 [==============================] - 2s 734us/step - loss: 3.2807 - acc: 0.1290\n",
      "Epoch 230/250\n",
      "2968/2968 [==============================] - 2s 747us/step - loss: 3.2754 - acc: 0.1344\n",
      "Epoch 231/250\n",
      "2968/2968 [==============================] - 2s 729us/step - loss: 3.2805 - acc: 0.1304\n",
      "Epoch 232/250\n",
      "2968/2968 [==============================] - 2s 736us/step - loss: 3.2783 - acc: 0.1354\n",
      "Epoch 233/250\n",
      "2968/2968 [==============================] - 2s 714us/step - loss: 3.2864 - acc: 0.1341\n",
      "Epoch 234/250\n",
      "2968/2968 [==============================] - 2s 713us/step - loss: 3.2767 - acc: 0.1344\n",
      "Epoch 235/250\n",
      "2968/2968 [==============================] - 2s 709us/step - loss: 3.2722 - acc: 0.1375\n",
      "Epoch 236/250\n",
      "2968/2968 [==============================] - 2s 713us/step - loss: 3.2674 - acc: 0.1371\n",
      "Epoch 237/250\n",
      "2968/2968 [==============================] - 2s 712us/step - loss: 3.2751 - acc: 0.1334\n",
      "Epoch 238/250\n",
      "2968/2968 [==============================] - 2s 702us/step - loss: 3.2723 - acc: 0.1435\n",
      "Epoch 239/250\n",
      "2968/2968 [==============================] - 2s 675us/step - loss: 3.2734 - acc: 0.1348\n",
      "Epoch 240/250\n",
      "2968/2968 [==============================] - 2s 717us/step - loss: 3.2696 - acc: 0.1301\n",
      "Epoch 241/250\n",
      "2968/2968 [==============================] - 2s 820us/step - loss: 3.2728 - acc: 0.1358\n",
      "Epoch 242/250\n",
      "2968/2968 [==============================] - 2s 745us/step - loss: 3.2725 - acc: 0.1371\n",
      "Epoch 243/250\n",
      "2968/2968 [==============================] - 2s 772us/step - loss: 3.2735 - acc: 0.1358\n",
      "Epoch 244/250\n",
      "2968/2968 [==============================] - 2s 777us/step - loss: 3.2596 - acc: 0.1351\n",
      "Epoch 245/250\n",
      "2968/2968 [==============================] - 2s 741us/step - loss: 3.2742 - acc: 0.1415\n",
      "Epoch 246/250\n",
      "2968/2968 [==============================] - 2s 770us/step - loss: 3.2527 - acc: 0.1449\n",
      "Epoch 247/250\n",
      "2968/2968 [==============================] - 2s 758us/step - loss: 3.2489 - acc: 0.1449\n",
      "Epoch 248/250\n",
      "2968/2968 [==============================] - 2s 738us/step - loss: 3.2525 - acc: 0.1476\n",
      "Epoch 249/250\n",
      "2968/2968 [==============================] - 2s 736us/step - loss: 3.2617 - acc: 0.1462\n",
      "Epoch 250/250\n",
      "2968/2968 [==============================] - 2s 708us/step - loss: 3.2557 - acc: 0.1341\n"
     ]
    }
   ],
   "source": [
    "model = train(features, labels, num_classes = len(np.unique(labels)), epochs = 250, lr=0.01)"
   ]
  },
  {
   "cell_type": "markdown",
   "metadata": {},
   "source": [
    "### Save the Trained Model to a File"
   ]
  },
  {
   "cell_type": "code",
   "execution_count": 198,
   "metadata": {},
   "outputs": [],
   "source": [
    "from keras.models import load_model\n",
    "model.save('models/basic/model.h5')"
   ]
  },
  {
   "cell_type": "markdown",
   "metadata": {},
   "source": [
    "### Let's run Prediction on the files in our Test"
   ]
  },
  {
   "cell_type": "code",
   "execution_count": 199,
   "metadata": {},
   "outputs": [],
   "source": [
    "model = load_model('models/basic/model.h5')"
   ]
  },
  {
   "cell_type": "markdown",
   "metadata": {},
   "source": [
    "### Load Validation Dataset"
   ]
  },
  {
   "cell_type": "code",
   "execution_count": 279,
   "metadata": {},
   "outputs": [],
   "source": [
    "df_validation = pd.read_csv(\"data/validation_split.csv\")"
   ]
  },
  {
   "cell_type": "code",
   "execution_count": 310,
   "metadata": {},
   "outputs": [],
   "source": [
    "df_validation[\"label_predicted\"] = \"\""
   ]
  },
  {
   "cell_type": "code",
   "execution_count": 311,
   "metadata": {},
   "outputs": [
    {
     "name": "stdout",
     "output_type": "stream",
     "text": [
      "(742, 4)\n"
     ]
    },
    {
     "data": {
      "text/html": [
       "<div>\n",
       "<style scoped>\n",
       "    .dataframe tbody tr th:only-of-type {\n",
       "        vertical-align: middle;\n",
       "    }\n",
       "\n",
       "    .dataframe tbody tr th {\n",
       "        vertical-align: top;\n",
       "    }\n",
       "\n",
       "    .dataframe thead th {\n",
       "        text-align: right;\n",
       "    }\n",
       "</style>\n",
       "<table border=\"1\" class=\"dataframe\">\n",
       "  <thead>\n",
       "    <tr style=\"text-align: right;\">\n",
       "      <th></th>\n",
       "      <th>fname</th>\n",
       "      <th>manually_verified</th>\n",
       "      <th>label</th>\n",
       "      <th>label_predicted</th>\n",
       "    </tr>\n",
       "  </thead>\n",
       "  <tbody>\n",
       "    <tr>\n",
       "      <th>0</th>\n",
       "      <td>9df6bdd3.wav</td>\n",
       "      <td>1</td>\n",
       "      <td>Glockenspiel</td>\n",
       "      <td></td>\n",
       "    </tr>\n",
       "    <tr>\n",
       "      <th>1</th>\n",
       "      <td>6d3722db.wav</td>\n",
       "      <td>1</td>\n",
       "      <td>Gong</td>\n",
       "      <td></td>\n",
       "    </tr>\n",
       "    <tr>\n",
       "      <th>2</th>\n",
       "      <td>2500d6e9.wav</td>\n",
       "      <td>1</td>\n",
       "      <td>Telephone</td>\n",
       "      <td></td>\n",
       "    </tr>\n",
       "    <tr>\n",
       "      <th>3</th>\n",
       "      <td>5f20684f.wav</td>\n",
       "      <td>1</td>\n",
       "      <td>Cough</td>\n",
       "      <td></td>\n",
       "    </tr>\n",
       "    <tr>\n",
       "      <th>4</th>\n",
       "      <td>b9dd574a.wav</td>\n",
       "      <td>1</td>\n",
       "      <td>Acoustic_guitar</td>\n",
       "      <td></td>\n",
       "    </tr>\n",
       "  </tbody>\n",
       "</table>\n",
       "</div>"
      ],
      "text/plain": [
       "          fname  manually_verified            label label_predicted\n",
       "0  9df6bdd3.wav                  1     Glockenspiel                \n",
       "1  6d3722db.wav                  1             Gong                \n",
       "2  2500d6e9.wav                  1        Telephone                \n",
       "3  5f20684f.wav                  1            Cough                \n",
       "4  b9dd574a.wav                  1  Acoustic_guitar                "
      ]
     },
     "execution_count": 311,
     "metadata": {},
     "output_type": "execute_result"
    }
   ],
   "source": [
    "print(df_validation.shape)\n",
    "df_validation.head()"
   ]
  },
  {
   "cell_type": "markdown",
   "metadata": {},
   "source": [
    "### Build List of Labels"
   ]
  },
  {
   "cell_type": "code",
   "execution_count": 302,
   "metadata": {},
   "outputs": [],
   "source": [
    "labels = os.listdir(\"data/audio_train/train\")\n",
    "labels.sort()"
   ]
  },
  {
   "cell_type": "code",
   "execution_count": 322,
   "metadata": {},
   "outputs": [
    {
     "name": "stdout",
     "output_type": "stream",
     "text": [
      "Running Prediction on: data/audio_train/validation/Glockenspiel/9df6bdd3.wav\n",
      "Running Prediction on: data/audio_train/validation/Gong/6d3722db.wav\n",
      "Running Prediction on: data/audio_train/validation/Telephone/2500d6e9.wav\n",
      "Running Prediction on: data/audio_train/validation/Cough/5f20684f.wav\n",
      "Running Prediction on: data/audio_train/validation/Acoustic_guitar/b9dd574a.wav\n",
      "Running Prediction on: data/audio_train/validation/Finger_snapping/e7cd4355.wav\n",
      "Running Prediction on: data/audio_train/validation/Saxophone/dcd37383.wav\n",
      "Running Prediction on: data/audio_train/validation/Tearing/e39f888d.wav\n",
      "Running Prediction on: data/audio_train/validation/Violin_or_fiddle/85bd7e1b.wav\n",
      "Running Prediction on: data/audio_train/validation/Glockenspiel/b5ab5cdc.wav\n",
      "Running Prediction on: data/audio_train/validation/Fart/68532fcb.wav\n",
      "Running Prediction on: data/audio_train/validation/Bark/c6f0f0a0.wav\n",
      "Running Prediction on: data/audio_train/validation/Cello/756fc6fa.wav\n",
      "Running Prediction on: data/audio_train/validation/Saxophone/685b5c1f.wav\n",
      "Running Prediction on: data/audio_train/validation/Chime/6df2f14c.wav\n",
      "Running Prediction on: data/audio_train/validation/Cowbell/9a32a055.wav\n",
      "Running Prediction on: data/audio_train/validation/Cough/f5740c17.wav\n",
      "Running Prediction on: data/audio_train/validation/Burping_or_eructation/f7083613.wav\n",
      "Running Prediction on: data/audio_train/validation/Cello/f9653de8.wav\n",
      "Running Prediction on: data/audio_train/validation/Cello/d61f1a92.wav\n",
      "Running Prediction on: data/audio_train/validation/Fart/2c4b3304.wav\n",
      "Running Prediction on: data/audio_train/validation/Trumpet/b4200d90.wav\n",
      "Running Prediction on: data/audio_train/validation/Writing/97abaf0c.wav\n",
      "Running Prediction on: data/audio_train/validation/Double_bass/1e55de2b.wav\n",
      "Running Prediction on: data/audio_train/validation/Oboe/834ccf9d.wav\n",
      "Running Prediction on: data/audio_train/validation/Hi-hat/7076e8e6.wav\n",
      "Running Prediction on: data/audio_train/validation/Telephone/761aa8c0.wav\n",
      "Running Prediction on: data/audio_train/validation/Scissors/61923d5b.wav\n",
      "Running Prediction on: data/audio_train/validation/Glockenspiel/16568e3d.wav\n",
      "Running Prediction on: data/audio_train/validation/Tambourine/fde7f7b5.wav\n",
      "Running Prediction on: data/audio_train/validation/Snare_drum/ff3f21e7.wav\n",
      "Running Prediction on: data/audio_train/validation/Telephone/d542a510.wav\n",
      "Running Prediction on: data/audio_train/validation/Fireworks/851eef4a.wav\n",
      "Running Prediction on: data/audio_train/validation/Drawer_open_or_close/164fc190.wav\n",
      "Running Prediction on: data/audio_train/validation/Trumpet/7bc4dab0.wav\n",
      "Running Prediction on: data/audio_train/validation/Gunshot_or_gunfire/1aaceb5f.wav\n",
      "Running Prediction on: data/audio_train/validation/Squeak/e7c29db8.wav\n",
      "Running Prediction on: data/audio_train/validation/Keys_jangling/92d6bb08.wav\n",
      "Running Prediction on: data/audio_train/validation/Violin_or_fiddle/68589f79.wav\n",
      "Running Prediction on: data/audio_train/validation/Clarinet/5de123c3.wav\n",
      "Running Prediction on: data/audio_train/validation/Writing/2083da16.wav\n",
      "Running Prediction on: data/audio_train/validation/Acoustic_guitar/d8ac74e8.wav\n",
      "Running Prediction on: data/audio_train/validation/Violin_or_fiddle/7b6a119e.wav\n",
      "Running Prediction on: data/audio_train/validation/Chime/24e943ab.wav\n",
      "Running Prediction on: data/audio_train/validation/Shatter/9cb64934.wav\n",
      "Running Prediction on: data/audio_train/validation/Drawer_open_or_close/c010b3c1.wav\n",
      "Running Prediction on: data/audio_train/validation/Hi-hat/b09d2b6a.wav\n",
      "Running Prediction on: data/audio_train/validation/Violin_or_fiddle/64edfb51.wav\n",
      "Running Prediction on: data/audio_train/validation/Gunshot_or_gunfire/72f47548.wav\n",
      "Running Prediction on: data/audio_train/validation/Finger_snapping/4a2165a7.wav\n",
      "Running Prediction on: data/audio_train/validation/Electric_piano/9c3579f4.wav\n",
      "Running Prediction on: data/audio_train/validation/Microwave_oven/f40e1c8f.wav\n",
      "Running Prediction on: data/audio_train/validation/Tearing/58d5cc06.wav\n",
      "Running Prediction on: data/audio_train/validation/Snare_drum/4c590f69.wav\n",
      "Running Prediction on: data/audio_train/validation/Drawer_open_or_close/fefcacd6.wav\n",
      "Running Prediction on: data/audio_train/validation/Bass_drum/9a4bfb69.wav\n",
      "Running Prediction on: data/audio_train/validation/Gunshot_or_gunfire/4a78eefc.wav\n",
      "Running Prediction on: data/audio_train/validation/Cough/ffa4a506.wav\n",
      "Running Prediction on: data/audio_train/validation/Flute/e087f227.wav\n",
      "Running Prediction on: data/audio_train/validation/Electric_piano/87d039f6.wav\n",
      "Running Prediction on: data/audio_train/validation/Violin_or_fiddle/d4d11498.wav\n",
      "Running Prediction on: data/audio_train/validation/Flute/22d8346b.wav\n",
      "Running Prediction on: data/audio_train/validation/Keys_jangling/72761275.wav\n",
      "Running Prediction on: data/audio_train/validation/Flute/32a4c8f0.wav\n",
      "Running Prediction on: data/audio_train/validation/Microwave_oven/65c0c1ce.wav\n",
      "Running Prediction on: data/audio_train/validation/Laughter/3d3159e3.wav\n",
      "Running Prediction on: data/audio_train/validation/Applause/ad2bb540.wav\n",
      "Running Prediction on: data/audio_train/validation/Telephone/01b9f44a.wav\n",
      "Running Prediction on: data/audio_train/validation/Gunshot_or_gunfire/fb56239c.wav\n",
      "Running Prediction on: data/audio_train/validation/Clarinet/e2fa3ed3.wav\n",
      "Running Prediction on: data/audio_train/validation/Bass_drum/03fc1f96.wav\n",
      "Running Prediction on: data/audio_train/validation/Drawer_open_or_close/bc77e442.wav\n",
      "Running Prediction on: data/audio_train/validation/Cello/2ae249e8.wav\n",
      "Running Prediction on: data/audio_train/validation/Applause/71fb2237.wav\n",
      "Running Prediction on: data/audio_train/validation/Glockenspiel/e46a04c9.wav\n",
      "Running Prediction on: data/audio_train/validation/Tambourine/366664bb.wav\n",
      "Running Prediction on: data/audio_train/validation/Burping_or_eructation/2df01d41.wav\n",
      "Running Prediction on: data/audio_train/validation/Laughter/be75288b.wav\n",
      "Running Prediction on: data/audio_train/validation/Telephone/47e39a38.wav\n",
      "Running Prediction on: data/audio_train/validation/Fart/aaf5465b.wav\n",
      "Running Prediction on: data/audio_train/validation/Knock/182919ec.wav\n",
      "Running Prediction on: data/audio_train/validation/Trumpet/5983506e.wav\n",
      "Running Prediction on: data/audio_train/validation/Harmonica/96b50a2f.wav\n",
      "Running Prediction on: data/audio_train/validation/Laughter/0cdfa126.wav\n",
      "Running Prediction on: data/audio_train/validation/Squeak/6b3dd35c.wav\n",
      "Running Prediction on: data/audio_train/validation/Snare_drum/9f84ea5a.wav\n",
      "Running Prediction on: data/audio_train/validation/Trumpet/afadb16e.wav\n",
      "Running Prediction on: data/audio_train/validation/Shatter/72451929.wav\n",
      "Running Prediction on: data/audio_train/validation/Clarinet/ad7ec8cb.wav\n",
      "Running Prediction on: data/audio_train/validation/Telephone/1131892a.wav\n",
      "Running Prediction on: data/audio_train/validation/Knock/bbd8d6a1.wav\n",
      "Running Prediction on: data/audio_train/validation/Bass_drum/7d11b3b4.wav\n",
      "Running Prediction on: data/audio_train/validation/Tearing/69a6c4a9.wav\n",
      "Running Prediction on: data/audio_train/validation/Scissors/458ea6cc.wav\n",
      "Running Prediction on: data/audio_train/validation/Saxophone/58724448.wav\n",
      "Running Prediction on: data/audio_train/validation/Tearing/cba5a930.wav\n",
      "Running Prediction on: data/audio_train/validation/Oboe/4e1f8e90.wav\n",
      "Running Prediction on: data/audio_train/validation/Meow/375bfb8e.wav\n",
      "Running Prediction on: data/audio_train/validation/Gunshot_or_gunfire/0aad0a16.wav\n",
      "Running Prediction on: data/audio_train/validation/Squeak/48b67c44.wav\n",
      "Running Prediction on: data/audio_train/validation/Chime/fbc1cfdb.wav\n",
      "Running Prediction on: data/audio_train/validation/Keys_jangling/ac33d962.wav\n",
      "Running Prediction on: data/audio_train/validation/Trumpet/f8c23e9a.wav\n",
      "Running Prediction on: data/audio_train/validation/Keys_jangling/c31a0cbd.wav\n",
      "Running Prediction on: data/audio_train/validation/Burping_or_eructation/9dae7848.wav\n",
      "Running Prediction on: data/audio_train/validation/Scissors/167a4cd4.wav\n",
      "Running Prediction on: data/audio_train/validation/Clarinet/162276f0.wav\n",
      "Running Prediction on: data/audio_train/validation/Violin_or_fiddle/ceca4273.wav\n",
      "Running Prediction on: data/audio_train/validation/Glockenspiel/49cdefc5.wav\n",
      "Running Prediction on: data/audio_train/validation/Telephone/ea08f43d.wav\n",
      "Running Prediction on: data/audio_train/validation/Fireworks/597d7401.wav\n",
      "Running Prediction on: data/audio_train/validation/Bark/f8c827a4.wav\n",
      "Running Prediction on: data/audio_train/validation/Finger_snapping/051138fc.wav\n",
      "Running Prediction on: data/audio_train/validation/Cough/f8ff37cb.wav\n",
      "Running Prediction on: data/audio_train/validation/Electric_piano/027482e2.wav\n",
      "Running Prediction on: data/audio_train/validation/Cello/125e6ccf.wav\n",
      "Running Prediction on: data/audio_train/validation/Gunshot_or_gunfire/cce60b15.wav\n",
      "Running Prediction on: data/audio_train/validation/Oboe/c6914a89.wav\n",
      "Running Prediction on: data/audio_train/validation/Violin_or_fiddle/edf3fa19.wav\n",
      "Running Prediction on: data/audio_train/validation/Telephone/e5f9437c.wav\n",
      "Running Prediction on: data/audio_train/validation/Saxophone/b665434e.wav\n",
      "Running Prediction on: data/audio_train/validation/Electric_piano/67822329.wav\n",
      "Running Prediction on: data/audio_train/validation/Violin_or_fiddle/114cf102.wav\n",
      "Running Prediction on: data/audio_train/validation/Harmonica/6de38680.wav\n",
      "Running Prediction on: data/audio_train/validation/Cowbell/8aab3694.wav\n",
      "Running Prediction on: data/audio_train/validation/Violin_or_fiddle/5c1bd24c.wav\n",
      "Running Prediction on: data/audio_train/validation/Bark/db7faa42.wav\n",
      "Running Prediction on: data/audio_train/validation/Gunshot_or_gunfire/e11fb127.wav\n",
      "Running Prediction on: data/audio_train/validation/Gunshot_or_gunfire/747bf6fc.wav\n",
      "Running Prediction on: data/audio_train/validation/Saxophone/c1c3c8b9.wav\n",
      "Running Prediction on: data/audio_train/validation/Flute/1ced478c.wav\n",
      "Running Prediction on: data/audio_train/validation/Hi-hat/025f3fd2.wav\n",
      "Running Prediction on: data/audio_train/validation/Cello/88500b88.wav\n",
      "Running Prediction on: data/audio_train/validation/Saxophone/e35c9a8a.wav\n",
      "Running Prediction on: data/audio_train/validation/Hi-hat/0ba927cd.wav\n",
      "Running Prediction on: data/audio_train/validation/Applause/abd3d6f4.wav\n",
      "Running Prediction on: data/audio_train/validation/Finger_snapping/169acff4.wav\n",
      "Running Prediction on: data/audio_train/validation/Saxophone/7ec8b121.wav\n",
      "Running Prediction on: data/audio_train/validation/Bus/5104b6e1.wav\n",
      "Running Prediction on: data/audio_train/validation/Keys_jangling/c5aba2fc.wav\n",
      "Running Prediction on: data/audio_train/validation/Telephone/2968fbcd.wav\n",
      "Running Prediction on: data/audio_train/validation/Glockenspiel/03bb1c33.wav\n",
      "Running Prediction on: data/audio_train/validation/Cello/39f86ded.wav\n",
      "Running Prediction on: data/audio_train/validation/Cowbell/a62eee5d.wav\n",
      "Running Prediction on: data/audio_train/validation/Squeak/35fb9b2e.wav\n",
      "Running Prediction on: data/audio_train/validation/Violin_or_fiddle/d9a58d0c.wav\n",
      "Running Prediction on: data/audio_train/validation/Saxophone/57789a2d.wav\n",
      "Running Prediction on: data/audio_train/validation/Fireworks/052789c8.wav\n",
      "Running Prediction on: data/audio_train/validation/Snare_drum/5d9ca598.wav\n",
      "Running Prediction on: data/audio_train/validation/Applause/35669b76.wav\n",
      "Running Prediction on: data/audio_train/validation/Harmonica/ae57e1ec.wav\n",
      "Running Prediction on: data/audio_train/validation/Gong/969d8270.wav\n",
      "Running Prediction on: data/audio_train/validation/Harmonica/cfd6085a.wav\n",
      "Running Prediction on: data/audio_train/validation/Telephone/98da8281.wav\n",
      "Running Prediction on: data/audio_train/validation/Saxophone/d6691f17.wav\n",
      "Running Prediction on: data/audio_train/validation/Flute/213274fa.wav\n",
      "Running Prediction on: data/audio_train/validation/Glockenspiel/5263369a.wav\n",
      "Running Prediction on: data/audio_train/validation/Flute/8c452b56.wav\n",
      "Running Prediction on: data/audio_train/validation/Computer_keyboard/08d931c3.wav\n",
      "Running Prediction on: data/audio_train/validation/Drawer_open_or_close/78fa599e.wav\n",
      "Running Prediction on: data/audio_train/validation/Microwave_oven/33dd544d.wav\n",
      "Running Prediction on: data/audio_train/validation/Computer_keyboard/ba7151cd.wav\n",
      "Running Prediction on: data/audio_train/validation/Bus/ad62406c.wav\n",
      "Running Prediction on: data/audio_train/validation/Tambourine/11fbd6c2.wav\n",
      "Running Prediction on: data/audio_train/validation/Knock/28b75c35.wav\n",
      "Running Prediction on: data/audio_train/validation/Oboe/710d8919.wav\n",
      "Running Prediction on: data/audio_train/validation/Fart/ac5ddb43.wav\n",
      "Running Prediction on: data/audio_train/validation/Trumpet/fec180d4.wav\n",
      "Running Prediction on: data/audio_train/validation/Double_bass/0286fc27.wav\n",
      "Running Prediction on: data/audio_train/validation/Flute/3f8d2bee.wav\n",
      "Running Prediction on: data/audio_train/validation/Double_bass/99a5838c.wav\n",
      "Running Prediction on: data/audio_train/validation/Cough/fb3fef41.wav\n",
      "Running Prediction on: data/audio_train/validation/Meow/eae18f5e.wav\n",
      "Running Prediction on: data/audio_train/validation/Telephone/6c1434df.wav\n",
      "Running Prediction on: data/audio_train/validation/Harmonica/6fb7bc8c.wav\n",
      "Running Prediction on: data/audio_train/validation/Telephone/d91ee4c3.wav\n",
      "Running Prediction on: data/audio_train/validation/Electric_piano/a3c4944f.wav\n",
      "Running Prediction on: data/audio_train/validation/Gunshot_or_gunfire/01f2e70b.wav\n",
      "Running Prediction on: data/audio_train/validation/Scissors/575c3286.wav\n",
      "Running Prediction on: data/audio_train/validation/Cello/d0f3df9a.wav\n",
      "Running Prediction on: data/audio_train/validation/Computer_keyboard/62992353.wav\n",
      "Running Prediction on: data/audio_train/validation/Glockenspiel/c9563348.wav\n",
      "Running Prediction on: data/audio_train/validation/Gong/70b55fc4.wav\n",
      "Running Prediction on: data/audio_train/validation/Acoustic_guitar/49fabd19.wav\n",
      "Running Prediction on: data/audio_train/validation/Violin_or_fiddle/c8c117dc.wav\n",
      "Running Prediction on: data/audio_train/validation/Saxophone/3a77d7c4.wav\n",
      "Running Prediction on: data/audio_train/validation/Harmonica/7c1cccaa.wav\n",
      "Running Prediction on: data/audio_train/validation/Cowbell/cec21578.wav\n",
      "Running Prediction on: data/audio_train/validation/Trumpet/14684ee8.wav\n",
      "Running Prediction on: data/audio_train/validation/Harmonica/19974149.wav\n",
      "Running Prediction on: data/audio_train/validation/Gunshot_or_gunfire/a19e7349.wav\n",
      "Running Prediction on: data/audio_train/validation/Fart/26ea37e5.wav\n",
      "Running Prediction on: data/audio_train/validation/Violin_or_fiddle/a5f8d853.wav\n",
      "Running Prediction on: data/audio_train/validation/Squeak/20fb2252.wav\n",
      "Running Prediction on: data/audio_train/validation/Hi-hat/2503aaa1.wav\n",
      "Running Prediction on: data/audio_train/validation/Clarinet/ddf23920.wav\n",
      "Running Prediction on: data/audio_train/validation/Acoustic_guitar/08a68ba1.wav\n",
      "Running Prediction on: data/audio_train/validation/Writing/e65a827f.wav\n",
      "Running Prediction on: data/audio_train/validation/Scissors/cbfc7fb8.wav\n",
      "Running Prediction on: data/audio_train/validation/Cowbell/41108e2f.wav\n",
      "Running Prediction on: data/audio_train/validation/Saxophone/6daab86c.wav\n",
      "Running Prediction on: data/audio_train/validation/Computer_keyboard/b51a5a03.wav\n",
      "Running Prediction on: data/audio_train/validation/Telephone/667cc6dc.wav\n",
      "Running Prediction on: data/audio_train/validation/Oboe/9728b75b.wav\n",
      "Running Prediction on: data/audio_train/validation/Violin_or_fiddle/2287043f.wav\n",
      "Running Prediction on: data/audio_train/validation/Flute/c304193d.wav\n",
      "Running Prediction on: data/audio_train/validation/Clarinet/811e1301.wav\n",
      "Running Prediction on: data/audio_train/validation/Violin_or_fiddle/044be615.wav\n",
      "Running Prediction on: data/audio_train/validation/Double_bass/420b6ee8.wav\n",
      "Running Prediction on: data/audio_train/validation/Bus/55dd4e7c.wav\n",
      "Running Prediction on: data/audio_train/validation/Saxophone/ac097834.wav\n",
      "Running Prediction on: data/audio_train/validation/Computer_keyboard/7bb60688.wav\n",
      "Running Prediction on: data/audio_train/validation/Meow/5aa8b633.wav\n",
      "Running Prediction on: data/audio_train/validation/Double_bass/206161e8.wav\n",
      "Running Prediction on: data/audio_train/validation/Scissors/63874688.wav\n",
      "Running Prediction on: data/audio_train/validation/Bus/6aa01975.wav\n",
      "Running Prediction on: data/audio_train/validation/Violin_or_fiddle/48553cdd.wav\n",
      "Running Prediction on: data/audio_train/validation/Hi-hat/2fbbe0d8.wav\n",
      "Running Prediction on: data/audio_train/validation/Cello/f2b78a6f.wav\n",
      "Running Prediction on: data/audio_train/validation/Microwave_oven/37d0eed3.wav\n",
      "Running Prediction on: data/audio_train/validation/Acoustic_guitar/70ca9c77.wav\n",
      "Running Prediction on: data/audio_train/validation/Applause/2ee73a9d.wav\n",
      "Running Prediction on: data/audio_train/validation/Writing/13ac472f.wav\n",
      "Running Prediction on: data/audio_train/validation/Fart/623bc3fe.wav\n",
      "Running Prediction on: data/audio_train/validation/Writing/594f603c.wav\n",
      "Running Prediction on: data/audio_train/validation/Violin_or_fiddle/af3ba889.wav\n",
      "Running Prediction on: data/audio_train/validation/Harmonica/17429629.wav\n",
      "Running Prediction on: data/audio_train/validation/Acoustic_guitar/82ecb65c.wav\n",
      "Running Prediction on: data/audio_train/validation/Glockenspiel/ce9b1907.wav\n",
      "Running Prediction on: data/audio_train/validation/Meow/14ef39a2.wav\n",
      "Running Prediction on: data/audio_train/validation/Violin_or_fiddle/de06cab6.wav\n",
      "Running Prediction on: data/audio_train/validation/Clarinet/2f84b9ec.wav\n",
      "Running Prediction on: data/audio_train/validation/Hi-hat/612702c3.wav\n",
      "Running Prediction on: data/audio_train/validation/Gunshot_or_gunfire/05bc162b.wav\n",
      "Running Prediction on: data/audio_train/validation/Applause/972a4b10.wav\n",
      "Running Prediction on: data/audio_train/validation/Microwave_oven/cce3445b.wav\n",
      "Running Prediction on: data/audio_train/validation/Trumpet/2f4f25e0.wav\n",
      "Running Prediction on: data/audio_train/validation/Double_bass/e0ecd1a6.wav\n",
      "Running Prediction on: data/audio_train/validation/Trumpet/6a609889.wav\n",
      "Running Prediction on: data/audio_train/validation/Violin_or_fiddle/d73efc33.wav\n",
      "Running Prediction on: data/audio_train/validation/Fart/24e250f8.wav\n",
      "Running Prediction on: data/audio_train/validation/Gunshot_or_gunfire/2bc133ee.wav\n",
      "Running Prediction on: data/audio_train/validation/Trumpet/816d65da.wav\n",
      "Running Prediction on: data/audio_train/validation/Meow/c742d233.wav\n",
      "Running Prediction on: data/audio_train/validation/Double_bass/8d4f9ffa.wav\n",
      "Running Prediction on: data/audio_train/validation/Clarinet/0b82b3a5.wav\n",
      "Running Prediction on: data/audio_train/validation/Bark/f6da0840.wav\n",
      "Running Prediction on: data/audio_train/validation/Oboe/d0c5c389.wav\n",
      "Running Prediction on: data/audio_train/validation/Cello/c71357b7.wav\n",
      "Running Prediction on: data/audio_train/validation/Bark/569ee690.wav\n",
      "Running Prediction on: data/audio_train/validation/Squeak/1e15cc3b.wav\n",
      "Running Prediction on: data/audio_train/validation/Squeak/b0748ed2.wav\n",
      "Running Prediction on: data/audio_train/validation/Microwave_oven/5213c673.wav\n",
      "Running Prediction on: data/audio_train/validation/Cough/cb5d5737.wav\n",
      "Running Prediction on: data/audio_train/validation/Laughter/7f60f335.wav\n",
      "Running Prediction on: data/audio_train/validation/Cowbell/06d2b52b.wav\n",
      "Running Prediction on: data/audio_train/validation/Cowbell/df0de169.wav\n",
      "Running Prediction on: data/audio_train/validation/Gong/281c7727.wav\n",
      "Running Prediction on: data/audio_train/validation/Saxophone/c40632d7.wav\n",
      "Running Prediction on: data/audio_train/validation/Cough/ca1cffc7.wav\n",
      "Running Prediction on: data/audio_train/validation/Applause/7d4963eb.wav\n",
      "Running Prediction on: data/audio_train/validation/Burping_or_eructation/5a017c12.wav\n",
      "Running Prediction on: data/audio_train/validation/Cello/5d43f0e7.wav\n",
      "Running Prediction on: data/audio_train/validation/Saxophone/626de1cb.wav\n",
      "Running Prediction on: data/audio_train/validation/Laughter/d1d295bd.wav\n",
      "Running Prediction on: data/audio_train/validation/Gong/a4d11070.wav\n",
      "Running Prediction on: data/audio_train/validation/Hi-hat/cc986a42.wav\n",
      "Running Prediction on: data/audio_train/validation/Fireworks/d8abf134.wav\n",
      "Running Prediction on: data/audio_train/validation/Violin_or_fiddle/659763f7.wav\n",
      "Running Prediction on: data/audio_train/validation/Cough/a1751510.wav\n",
      "Running Prediction on: data/audio_train/validation/Flute/19389aaf.wav\n",
      "Running Prediction on: data/audio_train/validation/Finger_snapping/060ba089.wav\n",
      "Running Prediction on: data/audio_train/validation/Double_bass/4fb480bf.wav\n",
      "Running Prediction on: data/audio_train/validation/Knock/8f9ebf7b.wav\n",
      "Running Prediction on: data/audio_train/validation/Burping_or_eructation/11e3ffde.wav\n",
      "Running Prediction on: data/audio_train/validation/Electric_piano/523f65d5.wav\n",
      "Running Prediction on: data/audio_train/validation/Fireworks/f581894c.wav\n",
      "Running Prediction on: data/audio_train/validation/Meow/2a1540b1.wav\n",
      "Running Prediction on: data/audio_train/validation/Snare_drum/7aa93bef.wav\n",
      "Running Prediction on: data/audio_train/validation/Violin_or_fiddle/96815d71.wav\n",
      "Running Prediction on: data/audio_train/validation/Oboe/a531c210.wav\n",
      "Running Prediction on: data/audio_train/validation/Laughter/86fac849.wav\n",
      "Running Prediction on: data/audio_train/validation/Knock/45b9bc91.wav\n",
      "Running Prediction on: data/audio_train/validation/Snare_drum/cae0d841.wav\n",
      "Running Prediction on: data/audio_train/validation/Hi-hat/06c48eab.wav\n",
      "Running Prediction on: data/audio_train/validation/Violin_or_fiddle/71e52061.wav\n",
      "Running Prediction on: data/audio_train/validation/Tambourine/fe626e30.wav\n",
      "Running Prediction on: data/audio_train/validation/Fireworks/8ae50c6c.wav\n",
      "Running Prediction on: data/audio_train/validation/Fart/827ea9af.wav\n",
      "Running Prediction on: data/audio_train/validation/Drawer_open_or_close/3824a5f6.wav\n",
      "Running Prediction on: data/audio_train/validation/Keys_jangling/5503e01b.wav\n",
      "Running Prediction on: data/audio_train/validation/Flute/8d72a0b3.wav\n",
      "Running Prediction on: data/audio_train/validation/Bark/1d28b9cb.wav\n",
      "Running Prediction on: data/audio_train/validation/Bass_drum/ebe7524b.wav\n",
      "Running Prediction on: data/audio_train/validation/Burping_or_eructation/fa6b48ee.wav\n",
      "Running Prediction on: data/audio_train/validation/Writing/04a19a27.wav\n",
      "Running Prediction on: data/audio_train/validation/Oboe/1749fc99.wav\n",
      "Running Prediction on: data/audio_train/validation/Saxophone/84c521bf.wav\n",
      "Running Prediction on: data/audio_train/validation/Gunshot_or_gunfire/ea205019.wav\n",
      "Running Prediction on: data/audio_train/validation/Flute/3eaddda8.wav\n",
      "Running Prediction on: data/audio_train/validation/Oboe/3a1b2a66.wav\n",
      "Running Prediction on: data/audio_train/validation/Glockenspiel/f7d17c6f.wav\n",
      "Running Prediction on: data/audio_train/validation/Violin_or_fiddle/29170890.wav\n",
      "Running Prediction on: data/audio_train/validation/Hi-hat/630ad55a.wav\n",
      "Running Prediction on: data/audio_train/validation/Gunshot_or_gunfire/23bc06b9.wav\n",
      "Running Prediction on: data/audio_train/validation/Bus/b765c7ba.wav\n",
      "Running Prediction on: data/audio_train/validation/Keys_jangling/a21f035a.wav\n",
      "Running Prediction on: data/audio_train/validation/Tambourine/1bf70cc6.wav\n",
      "Running Prediction on: data/audio_train/validation/Hi-hat/6dea9b11.wav\n",
      "Running Prediction on: data/audio_train/validation/Gunshot_or_gunfire/76c64431.wav\n",
      "Running Prediction on: data/audio_train/validation/Oboe/103b9ed4.wav\n",
      "Running Prediction on: data/audio_train/validation/Tearing/a50b86f7.wav\n",
      "Running Prediction on: data/audio_train/validation/Laughter/cf242525.wav\n",
      "Running Prediction on: data/audio_train/validation/Acoustic_guitar/f30c9ba4.wav\n",
      "Running Prediction on: data/audio_train/validation/Cough/73608822.wav\n",
      "Running Prediction on: data/audio_train/validation/Flute/9f522cda.wav\n",
      "Running Prediction on: data/audio_train/validation/Laughter/0097160c.wav\n",
      "Running Prediction on: data/audio_train/validation/Harmonica/80bbb34a.wav\n",
      "Running Prediction on: data/audio_train/validation/Electric_piano/e98202a8.wav\n",
      "Running Prediction on: data/audio_train/validation/Electric_piano/75ae3ed3.wav\n",
      "Running Prediction on: data/audio_train/validation/Tambourine/1827e52f.wav\n",
      "Running Prediction on: data/audio_train/validation/Meow/ed3e9e93.wav\n",
      "Running Prediction on: data/audio_train/validation/Shatter/b93ad6e8.wav\n",
      "Running Prediction on: data/audio_train/validation/Gong/85fad626.wav\n",
      "Running Prediction on: data/audio_train/validation/Violin_or_fiddle/6994bf26.wav\n",
      "Running Prediction on: data/audio_train/validation/Meow/aac2cd6e.wav\n",
      "Running Prediction on: data/audio_train/validation/Gunshot_or_gunfire/3ef1e964.wav\n",
      "Running Prediction on: data/audio_train/validation/Electric_piano/50fc3ef5.wav\n",
      "Running Prediction on: data/audio_train/validation/Flute/bb151a96.wav\n",
      "Running Prediction on: data/audio_train/validation/Chime/3c71a915.wav\n",
      "Running Prediction on: data/audio_train/validation/Clarinet/874959d9.wav\n",
      "Running Prediction on: data/audio_train/validation/Fart/508d3aed.wav\n",
      "Running Prediction on: data/audio_train/validation/Acoustic_guitar/34747922.wav\n",
      "Running Prediction on: data/audio_train/validation/Meow/754667cd.wav\n",
      "Running Prediction on: data/audio_train/validation/Gong/928176ed.wav\n",
      "Running Prediction on: data/audio_train/validation/Scissors/9a8d697e.wav\n",
      "Running Prediction on: data/audio_train/validation/Harmonica/96eccbcd.wav\n",
      "Running Prediction on: data/audio_train/validation/Flute/f2762ba2.wav\n",
      "Running Prediction on: data/audio_train/validation/Telephone/8a853191.wav\n",
      "Running Prediction on: data/audio_train/validation/Tearing/cbdc3764.wav\n",
      "Running Prediction on: data/audio_train/validation/Gong/7b07c16f.wav\n",
      "Running Prediction on: data/audio_train/validation/Telephone/ed0e89d8.wav\n",
      "Running Prediction on: data/audio_train/validation/Violin_or_fiddle/21346775.wav\n",
      "Running Prediction on: data/audio_train/validation/Knock/f36f0a75.wav\n",
      "Running Prediction on: data/audio_train/validation/Hi-hat/77e64c77.wav\n",
      "Running Prediction on: data/audio_train/validation/Double_bass/76e56ba9.wav\n",
      "Running Prediction on: data/audio_train/validation/Saxophone/0c36c39a.wav\n",
      "Running Prediction on: data/audio_train/validation/Saxophone/8599f0a2.wav\n",
      "Running Prediction on: data/audio_train/validation/Writing/28aec29b.wav\n",
      "Running Prediction on: data/audio_train/validation/Double_bass/189c2ac2.wav\n",
      "Running Prediction on: data/audio_train/validation/Bus/6828f1a3.wav\n",
      "Running Prediction on: data/audio_train/validation/Gunshot_or_gunfire/df2aac3c.wav\n",
      "Running Prediction on: data/audio_train/validation/Acoustic_guitar/f40edcdd.wav\n",
      "Running Prediction on: data/audio_train/validation/Knock/d3ae5c4d.wav\n",
      "Running Prediction on: data/audio_train/validation/Finger_snapping/fd2df3ec.wav\n",
      "Running Prediction on: data/audio_train/validation/Drawer_open_or_close/170950ce.wav\n",
      "Running Prediction on: data/audio_train/validation/Clarinet/4cb7c775.wav\n",
      "Running Prediction on: data/audio_train/validation/Violin_or_fiddle/7eadea22.wav\n",
      "Running Prediction on: data/audio_train/validation/Squeak/ce8d1378.wav\n",
      "Running Prediction on: data/audio_train/validation/Violin_or_fiddle/7187cb86.wav\n",
      "Running Prediction on: data/audio_train/validation/Bark/8e07e2e1.wav\n",
      "Running Prediction on: data/audio_train/validation/Keys_jangling/96a05522.wav\n",
      "Running Prediction on: data/audio_train/validation/Gunshot_or_gunfire/2ed52423.wav\n",
      "Running Prediction on: data/audio_train/validation/Gunshot_or_gunfire/560506a1.wav\n",
      "Running Prediction on: data/audio_train/validation/Violin_or_fiddle/c1bc9813.wav\n",
      "Running Prediction on: data/audio_train/validation/Laughter/aacbd637.wav\n",
      "Running Prediction on: data/audio_train/validation/Trumpet/5783d462.wav\n",
      "Running Prediction on: data/audio_train/validation/Violin_or_fiddle/39a63f30.wav\n",
      "Running Prediction on: data/audio_train/validation/Violin_or_fiddle/2e8d6e34.wav\n",
      "Running Prediction on: data/audio_train/validation/Chime/1dbb4e4b.wav\n",
      "Running Prediction on: data/audio_train/validation/Bark/4900d8a0.wav\n",
      "Running Prediction on: data/audio_train/validation/Cello/ec74b3b7.wav\n",
      "Running Prediction on: data/audio_train/validation/Saxophone/b93d6988.wav\n",
      "Running Prediction on: data/audio_train/validation/Finger_snapping/8a8a9e60.wav\n",
      "Running Prediction on: data/audio_train/validation/Shatter/5c248a1b.wav\n",
      "Running Prediction on: data/audio_train/validation/Gong/72807ff9.wav\n",
      "Running Prediction on: data/audio_train/validation/Microwave_oven/6b9224c7.wav\n",
      "Running Prediction on: data/audio_train/validation/Acoustic_guitar/35039ae1.wav\n",
      "Running Prediction on: data/audio_train/validation/Cello/00353774.wav\n",
      "Running Prediction on: data/audio_train/validation/Shatter/85830943.wav\n",
      "Running Prediction on: data/audio_train/validation/Acoustic_guitar/8a2f4e19.wav\n",
      "Running Prediction on: data/audio_train/validation/Flute/644cfbc8.wav\n",
      "Running Prediction on: data/audio_train/validation/Cowbell/fdaa6854.wav\n",
      "Running Prediction on: data/audio_train/validation/Applause/d2abc133.wav\n",
      "Running Prediction on: data/audio_train/validation/Harmonica/24218e25.wav\n",
      "Running Prediction on: data/audio_train/validation/Harmonica/d7241122.wav\n",
      "Running Prediction on: data/audio_train/validation/Laughter/917940e7.wav\n",
      "Running Prediction on: data/audio_train/validation/Clarinet/a6b02a43.wav\n",
      "Running Prediction on: data/audio_train/validation/Acoustic_guitar/f2b0e59d.wav\n",
      "Running Prediction on: data/audio_train/validation/Tambourine/66bf4fa3.wav\n",
      "Running Prediction on: data/audio_train/validation/Clarinet/97a1d2cb.wav\n",
      "Running Prediction on: data/audio_train/validation/Knock/1071fd84.wav\n",
      "Running Prediction on: data/audio_train/validation/Gunshot_or_gunfire/d25e8e82.wav\n",
      "Running Prediction on: data/audio_train/validation/Trumpet/1f00f903.wav\n",
      "Running Prediction on: data/audio_train/validation/Bass_drum/ff11628d.wav\n",
      "Running Prediction on: data/audio_train/validation/Saxophone/7d37ed76.wav\n",
      "Running Prediction on: data/audio_train/validation/Scissors/4813422d.wav\n",
      "Running Prediction on: data/audio_train/validation/Finger_snapping/adaada0f.wav\n",
      "Running Prediction on: data/audio_train/validation/Acoustic_guitar/38216fad.wav\n",
      "Running Prediction on: data/audio_train/validation/Bass_drum/ce3f3400.wav\n",
      "Running Prediction on: data/audio_train/validation/Squeak/54679e2a.wav\n",
      "Running Prediction on: data/audio_train/validation/Bass_drum/fbc6a343.wav\n",
      "Running Prediction on: data/audio_train/validation/Writing/e186a347.wav\n",
      "Running Prediction on: data/audio_train/validation/Drawer_open_or_close/98744c9c.wav\n",
      "Running Prediction on: data/audio_train/validation/Fart/f44f1164.wav\n",
      "Running Prediction on: data/audio_train/validation/Chime/3b44e22f.wav\n",
      "Running Prediction on: data/audio_train/validation/Tambourine/f06c961d.wav\n",
      "Running Prediction on: data/audio_train/validation/Acoustic_guitar/52834f79.wav\n",
      "Running Prediction on: data/audio_train/validation/Acoustic_guitar/0eeaebcb.wav\n",
      "Running Prediction on: data/audio_train/validation/Violin_or_fiddle/2424ad60.wav\n",
      "Running Prediction on: data/audio_train/validation/Telephone/6a62bb15.wav\n",
      "Running Prediction on: data/audio_train/validation/Cowbell/a84de09c.wav\n",
      "Running Prediction on: data/audio_train/validation/Microwave_oven/50fd4c27.wav\n",
      "Running Prediction on: data/audio_train/validation/Electric_piano/1c3d00bf.wav\n",
      "Running Prediction on: data/audio_train/validation/Laughter/b7934365.wav\n",
      "Running Prediction on: data/audio_train/validation/Telephone/5f6e7a2f.wav\n",
      "Running Prediction on: data/audio_train/validation/Gong/5d9331ab.wav\n",
      "Running Prediction on: data/audio_train/validation/Fireworks/ff402c67.wav\n",
      "Running Prediction on: data/audio_train/validation/Saxophone/ea5bd9ac.wav\n",
      "Running Prediction on: data/audio_train/validation/Cello/b3cee50d.wav\n",
      "Running Prediction on: data/audio_train/validation/Glockenspiel/104f8672.wav\n",
      "Running Prediction on: data/audio_train/validation/Writing/991fa1d7.wav\n",
      "Running Prediction on: data/audio_train/validation/Finger_snapping/f50a3e03.wav\n",
      "Running Prediction on: data/audio_train/validation/Cowbell/d149bd91.wav\n",
      "Running Prediction on: data/audio_train/validation/Harmonica/d561c726.wav\n",
      "Running Prediction on: data/audio_train/validation/Oboe/c753df31.wav\n",
      "Running Prediction on: data/audio_train/validation/Shatter/cc158878.wav\n",
      "Running Prediction on: data/audio_train/validation/Fireworks/bb36a316.wav\n",
      "Running Prediction on: data/audio_train/validation/Bus/208ddbdd.wav\n",
      "Running Prediction on: data/audio_train/validation/Trumpet/a3090b56.wav\n",
      "Running Prediction on: data/audio_train/validation/Harmonica/5a963555.wav\n",
      "Running Prediction on: data/audio_train/validation/Oboe/8ce4c32b.wav\n",
      "Running Prediction on: data/audio_train/validation/Fart/c107d918.wav\n",
      "Running Prediction on: data/audio_train/validation/Saxophone/7351502a.wav\n",
      "Running Prediction on: data/audio_train/validation/Tearing/0f23d7e4.wav\n",
      "Running Prediction on: data/audio_train/validation/Snare_drum/36d06cc0.wav\n",
      "Running Prediction on: data/audio_train/validation/Saxophone/a3484b9f.wav\n",
      "Running Prediction on: data/audio_train/validation/Cello/b37b60fb.wav\n",
      "Running Prediction on: data/audio_train/validation/Electric_piano/892a2db5.wav\n",
      "Running Prediction on: data/audio_train/validation/Burping_or_eructation/314b13fe.wav\n",
      "Running Prediction on: data/audio_train/validation/Scissors/ae7087c7.wav\n",
      "Running Prediction on: data/audio_train/validation/Flute/90a3a39c.wav\n",
      "Running Prediction on: data/audio_train/validation/Keys_jangling/5d72f4ed.wav\n",
      "Running Prediction on: data/audio_train/validation/Clarinet/ece8c018.wav\n",
      "Running Prediction on: data/audio_train/validation/Fireworks/3e93dd4c.wav\n",
      "Running Prediction on: data/audio_train/validation/Electric_piano/5e28a9a2.wav\n",
      "Running Prediction on: data/audio_train/validation/Cello/e62d770e.wav\n",
      "Running Prediction on: data/audio_train/validation/Harmonica/e4b5417a.wav\n",
      "Running Prediction on: data/audio_train/validation/Drawer_open_or_close/dfb42c74.wav\n",
      "Running Prediction on: data/audio_train/validation/Bus/c7195d8d.wav\n",
      "Running Prediction on: data/audio_train/validation/Finger_snapping/4161f2a2.wav\n",
      "Running Prediction on: data/audio_train/validation/Keys_jangling/74de8588.wav\n",
      "Running Prediction on: data/audio_train/validation/Tearing/4acda322.wav\n",
      "Running Prediction on: data/audio_train/validation/Drawer_open_or_close/6dc525e7.wav\n",
      "Running Prediction on: data/audio_train/validation/Clarinet/dc981a38.wav\n",
      "Running Prediction on: data/audio_train/validation/Snare_drum/edfb16fa.wav\n",
      "Running Prediction on: data/audio_train/validation/Violin_or_fiddle/82b513fe.wav\n",
      "Running Prediction on: data/audio_train/validation/Telephone/3e20cc09.wav\n",
      "Running Prediction on: data/audio_train/validation/Violin_or_fiddle/801a341a.wav\n",
      "Running Prediction on: data/audio_train/validation/Telephone/9f0a1a08.wav\n",
      "Running Prediction on: data/audio_train/validation/Violin_or_fiddle/a2f685b6.wav\n",
      "Running Prediction on: data/audio_train/validation/Tearing/751032c2.wav\n",
      "Running Prediction on: data/audio_train/validation/Fart/e4966885.wav\n",
      "Running Prediction on: data/audio_train/validation/Writing/b2348b0c.wav\n",
      "Running Prediction on: data/audio_train/validation/Knock/03a01285.wav\n",
      "Running Prediction on: data/audio_train/validation/Laughter/f939856c.wav\n",
      "Running Prediction on: data/audio_train/validation/Burping_or_eructation/0b7044b0.wav\n",
      "Running Prediction on: data/audio_train/validation/Violin_or_fiddle/1a6cd0d1.wav\n",
      "Running Prediction on: data/audio_train/validation/Flute/be3d113e.wav\n",
      "Running Prediction on: data/audio_train/validation/Chime/5c04ac97.wav\n",
      "Running Prediction on: data/audio_train/validation/Applause/3fb27eb8.wav\n",
      "Running Prediction on: data/audio_train/validation/Computer_keyboard/529ca3b3.wav\n",
      "Running Prediction on: data/audio_train/validation/Squeak/a18d0bd5.wav\n",
      "Running Prediction on: data/audio_train/validation/Microwave_oven/7715ff41.wav\n",
      "Running Prediction on: data/audio_train/validation/Squeak/4dad3b5f.wav\n",
      "Running Prediction on: data/audio_train/validation/Saxophone/b60ff4ea.wav\n",
      "Running Prediction on: data/audio_train/validation/Flute/1f4a7bfe.wav\n",
      "Running Prediction on: data/audio_train/validation/Writing/542bb157.wav\n",
      "Running Prediction on: data/audio_train/validation/Electric_piano/24bae325.wav\n",
      "Running Prediction on: data/audio_train/validation/Writing/0a366772.wav\n",
      "Running Prediction on: data/audio_train/validation/Gong/fc0d6bd0.wav\n",
      "Running Prediction on: data/audio_train/validation/Clarinet/8916ffcd.wav\n",
      "Running Prediction on: data/audio_train/validation/Oboe/0738f99f.wav\n",
      "Running Prediction on: data/audio_train/validation/Clarinet/b0c06255.wav\n",
      "Running Prediction on: data/audio_train/validation/Gunshot_or_gunfire/7df4a559.wav\n",
      "Running Prediction on: data/audio_train/validation/Violin_or_fiddle/e3f479f3.wav\n",
      "Running Prediction on: data/audio_train/validation/Saxophone/a8b67798.wav\n",
      "Running Prediction on: data/audio_train/validation/Shatter/a5f5dbd7.wav\n",
      "Running Prediction on: data/audio_train/validation/Clarinet/4e2fcd3b.wav\n",
      "Running Prediction on: data/audio_train/validation/Meow/03b4aca1.wav\n",
      "Running Prediction on: data/audio_train/validation/Saxophone/5b01d7c2.wav\n",
      "Running Prediction on: data/audio_train/validation/Finger_snapping/611c548e.wav\n",
      "Running Prediction on: data/audio_train/validation/Applause/9a6a9cff.wav\n",
      "Running Prediction on: data/audio_train/validation/Saxophone/f52e7d48.wav\n",
      "Running Prediction on: data/audio_train/validation/Telephone/cd0f5e44.wav\n",
      "Running Prediction on: data/audio_train/validation/Saxophone/afe33168.wav\n",
      "Running Prediction on: data/audio_train/validation/Flute/9f6eac9c.wav\n",
      "Running Prediction on: data/audio_train/validation/Cowbell/d63d8c42.wav\n",
      "Running Prediction on: data/audio_train/validation/Hi-hat/1de37a8c.wav\n",
      "Running Prediction on: data/audio_train/validation/Hi-hat/7261a227.wav\n",
      "Running Prediction on: data/audio_train/validation/Saxophone/8a68f631.wav\n",
      "Running Prediction on: data/audio_train/validation/Flute/a4f46324.wav\n",
      "Running Prediction on: data/audio_train/validation/Bark/16e4d91a.wav\n",
      "Running Prediction on: data/audio_train/validation/Finger_snapping/0496718e.wav\n",
      "Running Prediction on: data/audio_train/validation/Chime/acd4f800.wav\n",
      "Running Prediction on: data/audio_train/validation/Harmonica/d11b916e.wav\n",
      "Running Prediction on: data/audio_train/validation/Gunshot_or_gunfire/ebf27ca9.wav\n",
      "Running Prediction on: data/audio_train/validation/Flute/d14f5df1.wav\n",
      "Running Prediction on: data/audio_train/validation/Double_bass/2ac8b94f.wav\n",
      "Running Prediction on: data/audio_train/validation/Gunshot_or_gunfire/e673349d.wav\n",
      "Running Prediction on: data/audio_train/validation/Saxophone/36d20ab5.wav\n",
      "Running Prediction on: data/audio_train/validation/Bass_drum/4ba2b70e.wav\n",
      "Running Prediction on: data/audio_train/validation/Bass_drum/15f7e867.wav\n",
      "Running Prediction on: data/audio_train/validation/Cowbell/087f12b6.wav\n",
      "Running Prediction on: data/audio_train/validation/Saxophone/25a82ad1.wav\n",
      "Running Prediction on: data/audio_train/validation/Laughter/6a0f3e43.wav\n",
      "Running Prediction on: data/audio_train/validation/Clarinet/4c8cd1c8.wav\n",
      "Running Prediction on: data/audio_train/validation/Microwave_oven/432d8a59.wav\n",
      "Running Prediction on: data/audio_train/validation/Violin_or_fiddle/b5eec01c.wav\n",
      "Running Prediction on: data/audio_train/validation/Tearing/e907f461.wav\n",
      "Running Prediction on: data/audio_train/validation/Cello/e94c6d67.wav\n",
      "Running Prediction on: data/audio_train/validation/Saxophone/423210f5.wav\n",
      "Running Prediction on: data/audio_train/validation/Tambourine/19343ae9.wav\n",
      "Running Prediction on: data/audio_train/validation/Fart/f1a0a22a.wav\n",
      "Running Prediction on: data/audio_train/validation/Computer_keyboard/9f534065.wav\n",
      "Running Prediction on: data/audio_train/validation/Tambourine/5fe07b4b.wav\n",
      "Running Prediction on: data/audio_train/validation/Double_bass/3c9abefe.wav\n",
      "Running Prediction on: data/audio_train/validation/Finger_snapping/ca7c441f.wav\n",
      "Running Prediction on: data/audio_train/validation/Cello/22bea889.wav\n",
      "Running Prediction on: data/audio_train/validation/Harmonica/cc90ad7a.wav\n",
      "Running Prediction on: data/audio_train/validation/Hi-hat/369164fe.wav\n",
      "Running Prediction on: data/audio_train/validation/Gong/18f825ef.wav\n",
      "Running Prediction on: data/audio_train/validation/Clarinet/079968f4.wav\n",
      "Running Prediction on: data/audio_train/validation/Computer_keyboard/7a61b4f2.wav\n",
      "Running Prediction on: data/audio_train/validation/Knock/de8de828.wav\n",
      "Running Prediction on: data/audio_train/validation/Acoustic_guitar/fceb6212.wav\n",
      "Running Prediction on: data/audio_train/validation/Burping_or_eructation/7edba859.wav\n",
      "Running Prediction on: data/audio_train/validation/Saxophone/1a16ebfd.wav\n",
      "Running Prediction on: data/audio_train/validation/Bus/e0ba0ac2.wav\n",
      "Running Prediction on: data/audio_train/validation/Scissors/ae7d15cf.wav\n",
      "Running Prediction on: data/audio_train/validation/Oboe/18fcddd0.wav\n",
      "Running Prediction on: data/audio_train/validation/Fireworks/027aee2a.wav\n",
      "Running Prediction on: data/audio_train/validation/Computer_keyboard/5166ee5a.wav\n",
      "Running Prediction on: data/audio_train/validation/Gong/ff0b5da2.wav\n",
      "Running Prediction on: data/audio_train/validation/Cough/591a127b.wav\n",
      "Running Prediction on: data/audio_train/validation/Cello/195f544d.wav\n",
      "Running Prediction on: data/audio_train/validation/Gunshot_or_gunfire/30d71cfe.wav\n",
      "Running Prediction on: data/audio_train/validation/Scissors/6ccdd42c.wav\n",
      "Running Prediction on: data/audio_train/validation/Trumpet/8bbd48e2.wav\n",
      "Running Prediction on: data/audio_train/validation/Gong/38cee215.wav\n",
      "Running Prediction on: data/audio_train/validation/Glockenspiel/af4d21ce.wav\n",
      "Running Prediction on: data/audio_train/validation/Gunshot_or_gunfire/30762b4e.wav\n",
      "Running Prediction on: data/audio_train/validation/Shatter/98e3623d.wav\n",
      "Running Prediction on: data/audio_train/validation/Electric_piano/f975263f.wav\n",
      "Running Prediction on: data/audio_train/validation/Chime/7773d933.wav\n",
      "Running Prediction on: data/audio_train/validation/Gunshot_or_gunfire/bf075487.wav\n",
      "Running Prediction on: data/audio_train/validation/Knock/d82f8f87.wav\n",
      "Running Prediction on: data/audio_train/validation/Gunshot_or_gunfire/5ef1bff4.wav\n",
      "Running Prediction on: data/audio_train/validation/Knock/003da8e5.wav\n",
      "Running Prediction on: data/audio_train/validation/Bark/3b04a2b1.wav\n",
      "Running Prediction on: data/audio_train/validation/Cough/fff81f55.wav\n",
      "Running Prediction on: data/audio_train/validation/Chime/c05d48b7.wav\n",
      "Running Prediction on: data/audio_train/validation/Knock/ca415578.wav\n",
      "Running Prediction on: data/audio_train/validation/Cough/cab49319.wav\n",
      "Running Prediction on: data/audio_train/validation/Cello/699385f4.wav\n",
      "Running Prediction on: data/audio_train/validation/Saxophone/a0d273d0.wav\n",
      "Running Prediction on: data/audio_train/validation/Snare_drum/4e74d920.wav\n",
      "Running Prediction on: data/audio_train/validation/Laughter/9f0e3750.wav\n",
      "Running Prediction on: data/audio_train/validation/Saxophone/0b1f22c3.wav\n",
      "Running Prediction on: data/audio_train/validation/Laughter/88e792b8.wav\n",
      "Running Prediction on: data/audio_train/validation/Drawer_open_or_close/761c61b6.wav\n",
      "Running Prediction on: data/audio_train/validation/Finger_snapping/691c7f02.wav\n",
      "Running Prediction on: data/audio_train/validation/Acoustic_guitar/4957c12d.wav\n",
      "Running Prediction on: data/audio_train/validation/Double_bass/d39b9035.wav\n",
      "Running Prediction on: data/audio_train/validation/Trumpet/fa80fe22.wav\n",
      "Running Prediction on: data/audio_train/validation/Flute/4bcc8a77.wav\n",
      "Running Prediction on: data/audio_train/validation/Tambourine/09158810.wav\n",
      "Running Prediction on: data/audio_train/validation/Laughter/1cccb873.wav\n",
      "Running Prediction on: data/audio_train/validation/Oboe/0c4f2a87.wav\n",
      "Running Prediction on: data/audio_train/validation/Cowbell/5e5a6215.wav\n",
      "Running Prediction on: data/audio_train/validation/Violin_or_fiddle/cfb9c5fd.wav\n",
      "Running Prediction on: data/audio_train/validation/Fireworks/1f095666.wav\n",
      "Running Prediction on: data/audio_train/validation/Violin_or_fiddle/32bd34b5.wav\n",
      "Running Prediction on: data/audio_train/validation/Saxophone/83bf905c.wav\n",
      "Running Prediction on: data/audio_train/validation/Squeak/8068797e.wav\n",
      "Running Prediction on: data/audio_train/validation/Saxophone/8f223da9.wav\n",
      "Running Prediction on: data/audio_train/validation/Bass_drum/88780eac.wav\n",
      "Running Prediction on: data/audio_train/validation/Cowbell/8d8a80b5.wav\n",
      "Running Prediction on: data/audio_train/validation/Burping_or_eructation/cdfc084a.wav\n",
      "Running Prediction on: data/audio_train/validation/Tearing/8f02b1f2.wav\n",
      "Running Prediction on: data/audio_train/validation/Double_bass/103f29e5.wav\n",
      "Running Prediction on: data/audio_train/validation/Violin_or_fiddle/a2d9bbfb.wav\n",
      "Running Prediction on: data/audio_train/validation/Drawer_open_or_close/1329c048.wav\n",
      "Running Prediction on: data/audio_train/validation/Cello/40c2cec1.wav\n",
      "Running Prediction on: data/audio_train/validation/Violin_or_fiddle/46d7d98d.wav\n",
      "Running Prediction on: data/audio_train/validation/Telephone/dc4463f8.wav\n",
      "Running Prediction on: data/audio_train/validation/Cello/bfd73e2b.wav\n",
      "Running Prediction on: data/audio_train/validation/Saxophone/40a40896.wav\n",
      "Running Prediction on: data/audio_train/validation/Cowbell/23cb1f38.wav\n",
      "Running Prediction on: data/audio_train/validation/Finger_snapping/4eb1742d.wav\n",
      "Running Prediction on: data/audio_train/validation/Shatter/11fab0b0.wav\n",
      "Running Prediction on: data/audio_train/validation/Acoustic_guitar/585c9c8c.wav\n",
      "Running Prediction on: data/audio_train/validation/Bark/9e1ed2eb.wav\n",
      "Running Prediction on: data/audio_train/validation/Snare_drum/3c87c17a.wav\n",
      "Running Prediction on: data/audio_train/validation/Flute/35e97db3.wav\n",
      "Running Prediction on: data/audio_train/validation/Applause/f10c7f27.wav\n",
      "Running Prediction on: data/audio_train/validation/Glockenspiel/7fe9ea95.wav\n",
      "Running Prediction on: data/audio_train/validation/Saxophone/25f26095.wav\n",
      "Running Prediction on: data/audio_train/validation/Snare_drum/de0debf5.wav\n",
      "Running Prediction on: data/audio_train/validation/Cough/798d6d5e.wav\n",
      "Running Prediction on: data/audio_train/validation/Tambourine/1e8ffcc9.wav\n",
      "Running Prediction on: data/audio_train/validation/Saxophone/fd16747a.wav\n",
      "Running Prediction on: data/audio_train/validation/Violin_or_fiddle/284a6757.wav\n",
      "Running Prediction on: data/audio_train/validation/Shatter/5b2d8050.wav\n",
      "Running Prediction on: data/audio_train/validation/Bus/5c232d44.wav\n",
      "Running Prediction on: data/audio_train/validation/Saxophone/2e270b74.wav\n",
      "Running Prediction on: data/audio_train/validation/Computer_keyboard/80ee3cc7.wav\n",
      "Running Prediction on: data/audio_train/validation/Gong/fb1f22b2.wav\n",
      "Running Prediction on: data/audio_train/validation/Squeak/c076bb26.wav\n",
      "Running Prediction on: data/audio_train/validation/Tambourine/19f45b13.wav\n",
      "Running Prediction on: data/audio_train/validation/Tambourine/024da466.wav\n",
      "Running Prediction on: data/audio_train/validation/Clarinet/95b961c8.wav\n",
      "Running Prediction on: data/audio_train/validation/Burping_or_eructation/1b34065d.wav\n",
      "Running Prediction on: data/audio_train/validation/Cowbell/11c90896.wav\n",
      "Running Prediction on: data/audio_train/validation/Trumpet/89d16dbb.wav\n",
      "Running Prediction on: data/audio_train/validation/Scissors/f58c0c4b.wav\n",
      "Running Prediction on: data/audio_train/validation/Tambourine/b1ae78f2.wav\n",
      "Running Prediction on: data/audio_train/validation/Saxophone/be8bf725.wav\n",
      "Running Prediction on: data/audio_train/validation/Tearing/0e5cab29.wav\n",
      "Running Prediction on: data/audio_train/validation/Applause/31102711.wav\n",
      "Running Prediction on: data/audio_train/validation/Bark/f90e431b.wav\n",
      "Running Prediction on: data/audio_train/validation/Telephone/13798190.wav\n",
      "Running Prediction on: data/audio_train/validation/Meow/bece203c.wav\n",
      "Running Prediction on: data/audio_train/validation/Keys_jangling/8dccb289.wav\n",
      "Running Prediction on: data/audio_train/validation/Trumpet/da8d6df0.wav\n",
      "Running Prediction on: data/audio_train/validation/Fireworks/9c91c331.wav\n",
      "Running Prediction on: data/audio_train/validation/Cello/853c5a08.wav\n",
      "Running Prediction on: data/audio_train/validation/Bark/546416c0.wav\n",
      "Running Prediction on: data/audio_train/validation/Double_bass/9053941a.wav\n",
      "Running Prediction on: data/audio_train/validation/Violin_or_fiddle/fba51845.wav\n",
      "Running Prediction on: data/audio_train/validation/Bass_drum/52d30eec.wav\n",
      "Running Prediction on: data/audio_train/validation/Oboe/8055f4cb.wav\n",
      "Running Prediction on: data/audio_train/validation/Knock/d039d135.wav\n",
      "Running Prediction on: data/audio_train/validation/Clarinet/44c5094c.wav\n",
      "Running Prediction on: data/audio_train/validation/Gong/eaaa96c9.wav\n",
      "Running Prediction on: data/audio_train/validation/Clarinet/3c713bcf.wav\n",
      "Running Prediction on: data/audio_train/validation/Oboe/e022b7b0.wav\n",
      "Running Prediction on: data/audio_train/validation/Bus/d7857dfb.wav\n",
      "Running Prediction on: data/audio_train/validation/Clarinet/4ebe9797.wav\n",
      "Running Prediction on: data/audio_train/validation/Knock/c27d2fc5.wav\n",
      "Running Prediction on: data/audio_train/validation/Acoustic_guitar/9e613573.wav\n",
      "Running Prediction on: data/audio_train/validation/Acoustic_guitar/82fa96a7.wav\n",
      "Running Prediction on: data/audio_train/validation/Squeak/baa00aa2.wav\n",
      "Running Prediction on: data/audio_train/validation/Telephone/7e119ca2.wav\n",
      "Running Prediction on: data/audio_train/validation/Acoustic_guitar/7bce7d7c.wav\n",
      "Running Prediction on: data/audio_train/validation/Snare_drum/b68f10af.wav\n",
      "Running Prediction on: data/audio_train/validation/Double_bass/dc51a8b4.wav\n",
      "Running Prediction on: data/audio_train/validation/Laughter/f4627f0b.wav\n",
      "Running Prediction on: data/audio_train/validation/Computer_keyboard/586cbe20.wav\n",
      "Running Prediction on: data/audio_train/validation/Cello/238fb6b8.wav\n",
      "Running Prediction on: data/audio_train/validation/Gong/b717026f.wav\n",
      "Running Prediction on: data/audio_train/validation/Hi-hat/a1b369d7.wav\n",
      "Running Prediction on: data/audio_train/validation/Saxophone/1df3177c.wav\n",
      "Running Prediction on: data/audio_train/validation/Violin_or_fiddle/51b14c9d.wav\n",
      "Running Prediction on: data/audio_train/validation/Cough/9b3cfa23.wav\n",
      "Running Prediction on: data/audio_train/validation/Snare_drum/a7b7041d.wav\n",
      "Running Prediction on: data/audio_train/validation/Tambourine/a268cf7a.wav\n",
      "Running Prediction on: data/audio_train/validation/Violin_or_fiddle/aeb76e9d.wav\n",
      "Running Prediction on: data/audio_train/validation/Saxophone/993420a6.wav\n",
      "Running Prediction on: data/audio_train/validation/Bass_drum/63e0ab2c.wav\n",
      "Running Prediction on: data/audio_train/validation/Burping_or_eructation/f4e5760e.wav\n",
      "Running Prediction on: data/audio_train/validation/Oboe/e7cc98a2.wav\n",
      "Running Prediction on: data/audio_train/validation/Saxophone/7470ab2c.wav\n",
      "Running Prediction on: data/audio_train/validation/Drawer_open_or_close/b51d6534.wav\n",
      "Running Prediction on: data/audio_train/validation/Cowbell/4419dc7d.wav\n",
      "Running Prediction on: data/audio_train/validation/Glockenspiel/0d481dea.wav\n",
      "Running Prediction on: data/audio_train/validation/Microwave_oven/cc4c0c06.wav\n",
      "Running Prediction on: data/audio_train/validation/Chime/3def93b9.wav\n",
      "Running Prediction on: data/audio_train/validation/Microwave_oven/6b5b36b2.wav\n",
      "Running Prediction on: data/audio_train/validation/Shatter/c3605370.wav\n",
      "Running Prediction on: data/audio_train/validation/Shatter/5d4ffe7f.wav\n",
      "Running Prediction on: data/audio_train/validation/Fireworks/ddae73e4.wav\n",
      "Running Prediction on: data/audio_train/validation/Laughter/38e1a81c.wav\n",
      "Running Prediction on: data/audio_train/validation/Cello/d4bc030d.wav\n",
      "Running Prediction on: data/audio_train/validation/Double_bass/fea8ae24.wav\n",
      "Running Prediction on: data/audio_train/validation/Meow/9c0cf859.wav\n",
      "Running Prediction on: data/audio_train/validation/Hi-hat/2032be87.wav\n",
      "Running Prediction on: data/audio_train/validation/Flute/ec61f6ef.wav\n",
      "Running Prediction on: data/audio_train/validation/Fireworks/ab29ee26.wav\n",
      "Running Prediction on: data/audio_train/validation/Chime/e63098c2.wav\n",
      "Running Prediction on: data/audio_train/validation/Hi-hat/41897c32.wav\n",
      "Running Prediction on: data/audio_train/validation/Chime/897fc1c4.wav\n",
      "Running Prediction on: data/audio_train/validation/Computer_keyboard/3b79f91e.wav\n",
      "Running Prediction on: data/audio_train/validation/Saxophone/e2cf6d59.wav\n",
      "Running Prediction on: data/audio_train/validation/Tambourine/307b76ab.wav\n",
      "Running Prediction on: data/audio_train/validation/Saxophone/b8c0a88a.wav\n",
      "Running Prediction on: data/audio_train/validation/Knock/b35ec39e.wav\n",
      "Running Prediction on: data/audio_train/validation/Writing/7e169834.wav\n",
      "Running Prediction on: data/audio_train/validation/Keys_jangling/ffda1d2b.wav\n",
      "Running Prediction on: data/audio_train/validation/Clarinet/74cfa1eb.wav\n",
      "Running Prediction on: data/audio_train/validation/Double_bass/a1a12413.wav\n",
      "Running Prediction on: data/audio_train/validation/Meow/89515baf.wav\n",
      "Running Prediction on: data/audio_train/validation/Saxophone/ec647286.wav\n",
      "Running Prediction on: data/audio_train/validation/Fireworks/b4f5c1e2.wav\n",
      "Running Prediction on: data/audio_train/validation/Shatter/fcabcad4.wav\n",
      "Running Prediction on: data/audio_train/validation/Tambourine/1fcfb5e3.wav\n",
      "Running Prediction on: data/audio_train/validation/Violin_or_fiddle/18492a23.wav\n",
      "Running Prediction on: data/audio_train/validation/Bus/cba69173.wav\n",
      "Running Prediction on: data/audio_train/validation/Violin_or_fiddle/b38409bb.wav\n",
      "Running Prediction on: data/audio_train/validation/Harmonica/0716126b.wav\n",
      "Running Prediction on: data/audio_train/validation/Saxophone/327111f1.wav\n",
      "Running Prediction on: data/audio_train/validation/Gunshot_or_gunfire/f67b9e16.wav\n",
      "Running Prediction on: data/audio_train/validation/Electric_piano/12a38093.wav\n",
      "Running Prediction on: data/audio_train/validation/Violin_or_fiddle/97db1f95.wav\n",
      "Running Prediction on: data/audio_train/validation/Burping_or_eructation/125194b0.wav\n",
      "Running Prediction on: data/audio_train/validation/Keys_jangling/9d5cbd33.wav\n",
      "Running Prediction on: data/audio_train/validation/Saxophone/70231b6a.wav\n",
      "Running Prediction on: data/audio_train/validation/Clarinet/2fc00271.wav\n",
      "Running Prediction on: data/audio_train/validation/Double_bass/791648dc.wav\n",
      "Running Prediction on: data/audio_train/validation/Violin_or_fiddle/b7e5c702.wav\n",
      "Running Prediction on: data/audio_train/validation/Violin_or_fiddle/c301b5ed.wav\n",
      "Running Prediction on: data/audio_train/validation/Knock/2665dfa2.wav\n",
      "Running Prediction on: data/audio_train/validation/Flute/7472b44c.wav\n",
      "Running Prediction on: data/audio_train/validation/Knock/2ed3c63d.wav\n",
      "Running Prediction on: data/audio_train/validation/Saxophone/260ffd74.wav\n",
      "Running Prediction on: data/audio_train/validation/Microwave_oven/72de958e.wav\n",
      "Running Prediction on: data/audio_train/validation/Gunshot_or_gunfire/2b8b0191.wav\n",
      "Running Prediction on: data/audio_train/validation/Bass_drum/f78fbf28.wav\n",
      "Running Prediction on: data/audio_train/validation/Oboe/304986f0.wav\n",
      "Running Prediction on: data/audio_train/validation/Burping_or_eructation/324faa97.wav\n",
      "Running Prediction on: data/audio_train/validation/Cowbell/a13d958c.wav\n",
      "Running Prediction on: data/audio_train/validation/Saxophone/d61ab790.wav\n",
      "Running Prediction on: data/audio_train/validation/Meow/0c0f796c.wav\n",
      "Running Prediction on: data/audio_train/validation/Snare_drum/8f19c3a5.wav\n",
      "Running Prediction on: data/audio_train/validation/Flute/dc6676ff.wav\n",
      "Running Prediction on: data/audio_train/validation/Tambourine/143f37eb.wav\n",
      "Running Prediction on: data/audio_train/validation/Clarinet/3cbe9902.wav\n",
      "Running Prediction on: data/audio_train/validation/Fart/91dec7b9.wav\n",
      "Running Prediction on: data/audio_train/validation/Burping_or_eructation/efd6bce5.wav\n",
      "Running Prediction on: data/audio_train/validation/Violin_or_fiddle/69e18f96.wav\n",
      "Running Prediction on: data/audio_train/validation/Oboe/59ddf3d0.wav\n",
      "Running Prediction on: data/audio_train/validation/Cowbell/ff462e1b.wav\n"
     ]
    }
   ],
   "source": [
    "for index, row in df_validation.iterrows():\n",
    "    val_file_path = \"data/audio_train/validation/{}/{}\".format(row['label'], row['fname'])\n",
    "    print(\"Running Prediction on: {}\".format(val_file_path))\n",
    "    prediction = predict(model, val_file_path)\n",
    "\n",
    "    # Add 1 to Prediction to fix off by 1 error\n",
    "    predicted_label = labels[np.argmax(prediction)]\n",
    "    df_validation.at[index,'label_predicted'] = predicted_label"
   ]
  },
  {
   "cell_type": "code",
   "execution_count": 323,
   "metadata": {},
   "outputs": [
    {
     "data": {
      "text/html": [
       "<div>\n",
       "<style scoped>\n",
       "    .dataframe tbody tr th:only-of-type {\n",
       "        vertical-align: middle;\n",
       "    }\n",
       "\n",
       "    .dataframe tbody tr th {\n",
       "        vertical-align: top;\n",
       "    }\n",
       "\n",
       "    .dataframe thead th {\n",
       "        text-align: right;\n",
       "    }\n",
       "</style>\n",
       "<table border=\"1\" class=\"dataframe\">\n",
       "  <thead>\n",
       "    <tr style=\"text-align: right;\">\n",
       "      <th></th>\n",
       "      <th>fname</th>\n",
       "      <th>manually_verified</th>\n",
       "      <th>label</th>\n",
       "      <th>label_predicted</th>\n",
       "    </tr>\n",
       "  </thead>\n",
       "  <tbody>\n",
       "    <tr>\n",
       "      <th>0</th>\n",
       "      <td>9df6bdd3.wav</td>\n",
       "      <td>1</td>\n",
       "      <td>Glockenspiel</td>\n",
       "      <td>Flute</td>\n",
       "    </tr>\n",
       "    <tr>\n",
       "      <th>1</th>\n",
       "      <td>6d3722db.wav</td>\n",
       "      <td>1</td>\n",
       "      <td>Gong</td>\n",
       "      <td>Glockenspiel</td>\n",
       "    </tr>\n",
       "    <tr>\n",
       "      <th>2</th>\n",
       "      <td>2500d6e9.wav</td>\n",
       "      <td>1</td>\n",
       "      <td>Telephone</td>\n",
       "      <td>Tearing</td>\n",
       "    </tr>\n",
       "    <tr>\n",
       "      <th>3</th>\n",
       "      <td>5f20684f.wav</td>\n",
       "      <td>1</td>\n",
       "      <td>Cough</td>\n",
       "      <td>Computer_keyboard</td>\n",
       "    </tr>\n",
       "    <tr>\n",
       "      <th>4</th>\n",
       "      <td>b9dd574a.wav</td>\n",
       "      <td>1</td>\n",
       "      <td>Acoustic_guitar</td>\n",
       "      <td>Trumpet</td>\n",
       "    </tr>\n",
       "    <tr>\n",
       "      <th>5</th>\n",
       "      <td>e7cd4355.wav</td>\n",
       "      <td>1</td>\n",
       "      <td>Finger_snapping</td>\n",
       "      <td>Knock</td>\n",
       "    </tr>\n",
       "    <tr>\n",
       "      <th>6</th>\n",
       "      <td>dcd37383.wav</td>\n",
       "      <td>1</td>\n",
       "      <td>Saxophone</td>\n",
       "      <td>Oboe</td>\n",
       "    </tr>\n",
       "    <tr>\n",
       "      <th>7</th>\n",
       "      <td>e39f888d.wav</td>\n",
       "      <td>1</td>\n",
       "      <td>Tearing</td>\n",
       "      <td>Gong</td>\n",
       "    </tr>\n",
       "    <tr>\n",
       "      <th>8</th>\n",
       "      <td>85bd7e1b.wav</td>\n",
       "      <td>1</td>\n",
       "      <td>Violin_or_fiddle</td>\n",
       "      <td>Trumpet</td>\n",
       "    </tr>\n",
       "    <tr>\n",
       "      <th>9</th>\n",
       "      <td>b5ab5cdc.wav</td>\n",
       "      <td>1</td>\n",
       "      <td>Glockenspiel</td>\n",
       "      <td>Flute</td>\n",
       "    </tr>\n",
       "    <tr>\n",
       "      <th>10</th>\n",
       "      <td>68532fcb.wav</td>\n",
       "      <td>1</td>\n",
       "      <td>Fart</td>\n",
       "      <td>Electric_piano</td>\n",
       "    </tr>\n",
       "    <tr>\n",
       "      <th>11</th>\n",
       "      <td>c6f0f0a0.wav</td>\n",
       "      <td>1</td>\n",
       "      <td>Bark</td>\n",
       "      <td>Applause</td>\n",
       "    </tr>\n",
       "    <tr>\n",
       "      <th>12</th>\n",
       "      <td>756fc6fa.wav</td>\n",
       "      <td>1</td>\n",
       "      <td>Cello</td>\n",
       "      <td>Bus</td>\n",
       "    </tr>\n",
       "    <tr>\n",
       "      <th>13</th>\n",
       "      <td>685b5c1f.wav</td>\n",
       "      <td>1</td>\n",
       "      <td>Saxophone</td>\n",
       "      <td>Oboe</td>\n",
       "    </tr>\n",
       "    <tr>\n",
       "      <th>14</th>\n",
       "      <td>6df2f14c.wav</td>\n",
       "      <td>1</td>\n",
       "      <td>Chime</td>\n",
       "      <td>Laughter</td>\n",
       "    </tr>\n",
       "    <tr>\n",
       "      <th>15</th>\n",
       "      <td>9a32a055.wav</td>\n",
       "      <td>1</td>\n",
       "      <td>Cowbell</td>\n",
       "      <td>Cough</td>\n",
       "    </tr>\n",
       "    <tr>\n",
       "      <th>16</th>\n",
       "      <td>f5740c17.wav</td>\n",
       "      <td>1</td>\n",
       "      <td>Cough</td>\n",
       "      <td>Applause</td>\n",
       "    </tr>\n",
       "    <tr>\n",
       "      <th>17</th>\n",
       "      <td>f7083613.wav</td>\n",
       "      <td>1</td>\n",
       "      <td>Burping_or_eructation</td>\n",
       "      <td>Bass_drum</td>\n",
       "    </tr>\n",
       "    <tr>\n",
       "      <th>18</th>\n",
       "      <td>f9653de8.wav</td>\n",
       "      <td>1</td>\n",
       "      <td>Cello</td>\n",
       "      <td>Bus</td>\n",
       "    </tr>\n",
       "    <tr>\n",
       "      <th>19</th>\n",
       "      <td>d61f1a92.wav</td>\n",
       "      <td>1</td>\n",
       "      <td>Cello</td>\n",
       "      <td>Bus</td>\n",
       "    </tr>\n",
       "    <tr>\n",
       "      <th>20</th>\n",
       "      <td>2c4b3304.wav</td>\n",
       "      <td>1</td>\n",
       "      <td>Fart</td>\n",
       "      <td>Electric_piano</td>\n",
       "    </tr>\n",
       "    <tr>\n",
       "      <th>21</th>\n",
       "      <td>b4200d90.wav</td>\n",
       "      <td>1</td>\n",
       "      <td>Trumpet</td>\n",
       "      <td>Telephone</td>\n",
       "    </tr>\n",
       "    <tr>\n",
       "      <th>22</th>\n",
       "      <td>97abaf0c.wav</td>\n",
       "      <td>1</td>\n",
       "      <td>Writing</td>\n",
       "      <td>Violin_or_fiddle</td>\n",
       "    </tr>\n",
       "    <tr>\n",
       "      <th>23</th>\n",
       "      <td>1e55de2b.wav</td>\n",
       "      <td>1</td>\n",
       "      <td>Double_bass</td>\n",
       "      <td>Cowbell</td>\n",
       "    </tr>\n",
       "    <tr>\n",
       "      <th>24</th>\n",
       "      <td>834ccf9d.wav</td>\n",
       "      <td>1</td>\n",
       "      <td>Oboe</td>\n",
       "      <td>Microwave_oven</td>\n",
       "    </tr>\n",
       "    <tr>\n",
       "      <th>25</th>\n",
       "      <td>7076e8e6.wav</td>\n",
       "      <td>1</td>\n",
       "      <td>Hi-hat</td>\n",
       "      <td>Scissors</td>\n",
       "    </tr>\n",
       "    <tr>\n",
       "      <th>26</th>\n",
       "      <td>761aa8c0.wav</td>\n",
       "      <td>1</td>\n",
       "      <td>Telephone</td>\n",
       "      <td>Tearing</td>\n",
       "    </tr>\n",
       "    <tr>\n",
       "      <th>27</th>\n",
       "      <td>61923d5b.wav</td>\n",
       "      <td>1</td>\n",
       "      <td>Scissors</td>\n",
       "      <td>Tambourine</td>\n",
       "    </tr>\n",
       "    <tr>\n",
       "      <th>28</th>\n",
       "      <td>16568e3d.wav</td>\n",
       "      <td>1</td>\n",
       "      <td>Glockenspiel</td>\n",
       "      <td>Flute</td>\n",
       "    </tr>\n",
       "    <tr>\n",
       "      <th>29</th>\n",
       "      <td>fde7f7b5.wav</td>\n",
       "      <td>1</td>\n",
       "      <td>Tambourine</td>\n",
       "      <td>Squeak</td>\n",
       "    </tr>\n",
       "    <tr>\n",
       "      <th>30</th>\n",
       "      <td>ff3f21e7.wav</td>\n",
       "      <td>1</td>\n",
       "      <td>Snare_drum</td>\n",
       "      <td>Shatter</td>\n",
       "    </tr>\n",
       "    <tr>\n",
       "      <th>31</th>\n",
       "      <td>d542a510.wav</td>\n",
       "      <td>1</td>\n",
       "      <td>Telephone</td>\n",
       "      <td>Meow</td>\n",
       "    </tr>\n",
       "    <tr>\n",
       "      <th>32</th>\n",
       "      <td>851eef4a.wav</td>\n",
       "      <td>1</td>\n",
       "      <td>Fireworks</td>\n",
       "      <td>Finger_snapping</td>\n",
       "    </tr>\n",
       "    <tr>\n",
       "      <th>33</th>\n",
       "      <td>164fc190.wav</td>\n",
       "      <td>1</td>\n",
       "      <td>Drawer_open_or_close</td>\n",
       "      <td>Gong</td>\n",
       "    </tr>\n",
       "    <tr>\n",
       "      <th>34</th>\n",
       "      <td>7bc4dab0.wav</td>\n",
       "      <td>1</td>\n",
       "      <td>Trumpet</td>\n",
       "      <td>Telephone</td>\n",
       "    </tr>\n",
       "    <tr>\n",
       "      <th>35</th>\n",
       "      <td>1aaceb5f.wav</td>\n",
       "      <td>1</td>\n",
       "      <td>Gunshot_or_gunfire</td>\n",
       "      <td>Gong</td>\n",
       "    </tr>\n",
       "    <tr>\n",
       "      <th>36</th>\n",
       "      <td>e7c29db8.wav</td>\n",
       "      <td>1</td>\n",
       "      <td>Squeak</td>\n",
       "      <td>Scissors</td>\n",
       "    </tr>\n",
       "    <tr>\n",
       "      <th>37</th>\n",
       "      <td>92d6bb08.wav</td>\n",
       "      <td>1</td>\n",
       "      <td>Keys_jangling</td>\n",
       "      <td>Hi-hat</td>\n",
       "    </tr>\n",
       "    <tr>\n",
       "      <th>38</th>\n",
       "      <td>68589f79.wav</td>\n",
       "      <td>1</td>\n",
       "      <td>Violin_or_fiddle</td>\n",
       "      <td>Trumpet</td>\n",
       "    </tr>\n",
       "    <tr>\n",
       "      <th>39</th>\n",
       "      <td>5de123c3.wav</td>\n",
       "      <td>1</td>\n",
       "      <td>Clarinet</td>\n",
       "      <td>Chime</td>\n",
       "    </tr>\n",
       "    <tr>\n",
       "      <th>40</th>\n",
       "      <td>2083da16.wav</td>\n",
       "      <td>1</td>\n",
       "      <td>Writing</td>\n",
       "      <td>Violin_or_fiddle</td>\n",
       "    </tr>\n",
       "    <tr>\n",
       "      <th>41</th>\n",
       "      <td>d8ac74e8.wav</td>\n",
       "      <td>1</td>\n",
       "      <td>Acoustic_guitar</td>\n",
       "      <td>Writing</td>\n",
       "    </tr>\n",
       "    <tr>\n",
       "      <th>42</th>\n",
       "      <td>7b6a119e.wav</td>\n",
       "      <td>1</td>\n",
       "      <td>Violin_or_fiddle</td>\n",
       "      <td>Fireworks</td>\n",
       "    </tr>\n",
       "    <tr>\n",
       "      <th>43</th>\n",
       "      <td>24e943ab.wav</td>\n",
       "      <td>1</td>\n",
       "      <td>Chime</td>\n",
       "      <td>Knock</td>\n",
       "    </tr>\n",
       "    <tr>\n",
       "      <th>44</th>\n",
       "      <td>9cb64934.wav</td>\n",
       "      <td>1</td>\n",
       "      <td>Shatter</td>\n",
       "      <td>Fart</td>\n",
       "    </tr>\n",
       "    <tr>\n",
       "      <th>45</th>\n",
       "      <td>c010b3c1.wav</td>\n",
       "      <td>1</td>\n",
       "      <td>Drawer_open_or_close</td>\n",
       "      <td>Double_bass</td>\n",
       "    </tr>\n",
       "    <tr>\n",
       "      <th>46</th>\n",
       "      <td>b09d2b6a.wav</td>\n",
       "      <td>1</td>\n",
       "      <td>Hi-hat</td>\n",
       "      <td>Harmonica</td>\n",
       "    </tr>\n",
       "    <tr>\n",
       "      <th>47</th>\n",
       "      <td>64edfb51.wav</td>\n",
       "      <td>1</td>\n",
       "      <td>Violin_or_fiddle</td>\n",
       "      <td>Trumpet</td>\n",
       "    </tr>\n",
       "    <tr>\n",
       "      <th>48</th>\n",
       "      <td>72f47548.wav</td>\n",
       "      <td>1</td>\n",
       "      <td>Gunshot_or_gunfire</td>\n",
       "      <td>Gong</td>\n",
       "    </tr>\n",
       "    <tr>\n",
       "      <th>49</th>\n",
       "      <td>4a2165a7.wav</td>\n",
       "      <td>1</td>\n",
       "      <td>Finger_snapping</td>\n",
       "      <td>Fart</td>\n",
       "    </tr>\n",
       "  </tbody>\n",
       "</table>\n",
       "</div>"
      ],
      "text/plain": [
       "           fname  manually_verified                  label    label_predicted\n",
       "0   9df6bdd3.wav                  1           Glockenspiel              Flute\n",
       "1   6d3722db.wav                  1                   Gong       Glockenspiel\n",
       "2   2500d6e9.wav                  1              Telephone            Tearing\n",
       "3   5f20684f.wav                  1                  Cough  Computer_keyboard\n",
       "4   b9dd574a.wav                  1        Acoustic_guitar            Trumpet\n",
       "5   e7cd4355.wav                  1        Finger_snapping              Knock\n",
       "6   dcd37383.wav                  1              Saxophone               Oboe\n",
       "7   e39f888d.wav                  1                Tearing               Gong\n",
       "8   85bd7e1b.wav                  1       Violin_or_fiddle            Trumpet\n",
       "9   b5ab5cdc.wav                  1           Glockenspiel              Flute\n",
       "10  68532fcb.wav                  1                   Fart     Electric_piano\n",
       "11  c6f0f0a0.wav                  1                   Bark           Applause\n",
       "12  756fc6fa.wav                  1                  Cello                Bus\n",
       "13  685b5c1f.wav                  1              Saxophone               Oboe\n",
       "14  6df2f14c.wav                  1                  Chime           Laughter\n",
       "15  9a32a055.wav                  1                Cowbell              Cough\n",
       "16  f5740c17.wav                  1                  Cough           Applause\n",
       "17  f7083613.wav                  1  Burping_or_eructation          Bass_drum\n",
       "18  f9653de8.wav                  1                  Cello                Bus\n",
       "19  d61f1a92.wav                  1                  Cello                Bus\n",
       "20  2c4b3304.wav                  1                   Fart     Electric_piano\n",
       "21  b4200d90.wav                  1                Trumpet          Telephone\n",
       "22  97abaf0c.wav                  1                Writing   Violin_or_fiddle\n",
       "23  1e55de2b.wav                  1            Double_bass            Cowbell\n",
       "24  834ccf9d.wav                  1                   Oboe     Microwave_oven\n",
       "25  7076e8e6.wav                  1                 Hi-hat           Scissors\n",
       "26  761aa8c0.wav                  1              Telephone            Tearing\n",
       "27  61923d5b.wav                  1               Scissors         Tambourine\n",
       "28  16568e3d.wav                  1           Glockenspiel              Flute\n",
       "29  fde7f7b5.wav                  1             Tambourine             Squeak\n",
       "30  ff3f21e7.wav                  1             Snare_drum            Shatter\n",
       "31  d542a510.wav                  1              Telephone               Meow\n",
       "32  851eef4a.wav                  1              Fireworks    Finger_snapping\n",
       "33  164fc190.wav                  1   Drawer_open_or_close               Gong\n",
       "34  7bc4dab0.wav                  1                Trumpet          Telephone\n",
       "35  1aaceb5f.wav                  1     Gunshot_or_gunfire               Gong\n",
       "36  e7c29db8.wav                  1                 Squeak           Scissors\n",
       "37  92d6bb08.wav                  1          Keys_jangling             Hi-hat\n",
       "38  68589f79.wav                  1       Violin_or_fiddle            Trumpet\n",
       "39  5de123c3.wav                  1               Clarinet              Chime\n",
       "40  2083da16.wav                  1                Writing   Violin_or_fiddle\n",
       "41  d8ac74e8.wav                  1        Acoustic_guitar            Writing\n",
       "42  7b6a119e.wav                  1       Violin_or_fiddle          Fireworks\n",
       "43  24e943ab.wav                  1                  Chime              Knock\n",
       "44  9cb64934.wav                  1                Shatter               Fart\n",
       "45  c010b3c1.wav                  1   Drawer_open_or_close        Double_bass\n",
       "46  b09d2b6a.wav                  1                 Hi-hat          Harmonica\n",
       "47  64edfb51.wav                  1       Violin_or_fiddle            Trumpet\n",
       "48  72f47548.wav                  1     Gunshot_or_gunfire               Gong\n",
       "49  4a2165a7.wav                  1        Finger_snapping               Fart"
      ]
     },
     "execution_count": 323,
     "metadata": {},
     "output_type": "execute_result"
    }
   ],
   "source": [
    "df_validation.head(50)"
   ]
  },
  {
   "cell_type": "code",
   "execution_count": null,
   "metadata": {},
   "outputs": [],
   "source": [
    "df_validation.head()"
   ]
  },
  {
   "cell_type": "code",
   "execution_count": null,
   "metadata": {},
   "outputs": [],
   "source": []
  },
  {
   "cell_type": "code",
   "execution_count": 263,
   "metadata": {},
   "outputs": [],
   "source": [
    "prediction = predict(model, \"data/audio_train/validation/Microwave_oven/6b5b36b2.wav\")"
   ]
  },
  {
   "cell_type": "code",
   "execution_count": 287,
   "metadata": {},
   "outputs": [
    {
     "data": {
      "text/plain": [
       "'9df6bdd3.wav'"
      ]
     },
     "execution_count": 287,
     "metadata": {},
     "output_type": "execute_result"
    }
   ],
   "source": [
    "df_validation.at[0,'fname']"
   ]
  },
  {
   "cell_type": "code",
   "execution_count": 273,
   "metadata": {},
   "outputs": [
    {
     "data": {
      "text/plain": [
       "28"
      ]
     },
     "execution_count": 273,
     "metadata": {},
     "output_type": "execute_result"
    }
   ],
   "source": [
    "np.argmax(prediction) + 1"
   ]
  },
  {
   "cell_type": "code",
   "execution_count": 274,
   "metadata": {},
   "outputs": [],
   "source": [
    "import os\n",
    "dirs = os.listdir(\"data/audio_train/train\")\n",
    "dirs.sort()"
   ]
  },
  {
   "cell_type": "code",
   "execution_count": 270,
   "metadata": {},
   "outputs": [
    {
     "data": {
      "text/plain": [
       "41"
      ]
     },
     "execution_count": 270,
     "metadata": {},
     "output_type": "execute_result"
    }
   ],
   "source": [
    "len(dirs)"
   ]
  },
  {
   "cell_type": "code",
   "execution_count": 268,
   "metadata": {},
   "outputs": [
    {
     "data": {
      "text/plain": [
       "'Meow'"
      ]
     },
     "execution_count": 268,
     "metadata": {},
     "output_type": "execute_result"
    }
   ],
   "source": [
    "dirs[np.argmax(prediction)]"
   ]
  },
  {
   "cell_type": "code",
   "execution_count": 255,
   "metadata": {},
   "outputs": [
    {
     "data": {
      "text/plain": [
       "41"
      ]
     },
     "execution_count": 255,
     "metadata": {},
     "output_type": "execute_result"
    }
   ],
   "source": [
    "len(np.unique(labels))"
   ]
  },
  {
   "cell_type": "code",
   "execution_count": 272,
   "metadata": {},
   "outputs": [
    {
     "data": {
      "text/plain": [
       "40"
      ]
     },
     "execution_count": 272,
     "metadata": {},
     "output_type": "execute_result"
    }
   ],
   "source": [
    "np.max(labels)"
   ]
  },
  {
   "cell_type": "code",
   "execution_count": null,
   "metadata": {},
   "outputs": [],
   "source": []
  }
 ],
 "metadata": {
  "kernelspec": {
   "display_name": "audio-data-insights",
   "language": "python",
   "name": "audio-data-insights"
  },
  "language_info": {
   "codemirror_mode": {
    "name": "ipython",
    "version": 3
   },
   "file_extension": ".py",
   "mimetype": "text/x-python",
   "name": "python",
   "nbconvert_exporter": "python",
   "pygments_lexer": "ipython3",
   "version": "3.6.5"
  }
 },
 "nbformat": 4,
 "nbformat_minor": 2
}
